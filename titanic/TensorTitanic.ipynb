{
 "cells": [
  {
   "cell_type": "code",
   "execution_count": 2,
   "metadata": {},
   "outputs": [],
   "source": [
    "import pandas as pd\n",
    "import numpy as np\n",
    "import seaborn as sns\n",
    "import matplotlib.pyplot as plt"
   ]
  },
  {
   "cell_type": "code",
   "execution_count": 14,
   "metadata": {},
   "outputs": [],
   "source": [
    "df=pd.read_csv('train.csv')"
   ]
  },
  {
   "cell_type": "code",
   "execution_count": 15,
   "metadata": {},
   "outputs": [
    {
     "data": {
      "text/html": [
       "<div>\n",
       "<style scoped>\n",
       "    .dataframe tbody tr th:only-of-type {\n",
       "        vertical-align: middle;\n",
       "    }\n",
       "\n",
       "    .dataframe tbody tr th {\n",
       "        vertical-align: top;\n",
       "    }\n",
       "\n",
       "    .dataframe thead th {\n",
       "        text-align: right;\n",
       "    }\n",
       "</style>\n",
       "<table border=\"1\" class=\"dataframe\">\n",
       "  <thead>\n",
       "    <tr style=\"text-align: right;\">\n",
       "      <th></th>\n",
       "      <th>PassengerId</th>\n",
       "      <th>Survived</th>\n",
       "      <th>Pclass</th>\n",
       "      <th>Age</th>\n",
       "      <th>SibSp</th>\n",
       "      <th>Parch</th>\n",
       "      <th>Fare</th>\n",
       "    </tr>\n",
       "  </thead>\n",
       "  <tbody>\n",
       "    <tr>\n",
       "      <th>count</th>\n",
       "      <td>891.000000</td>\n",
       "      <td>891.000000</td>\n",
       "      <td>891.000000</td>\n",
       "      <td>714.000000</td>\n",
       "      <td>891.000000</td>\n",
       "      <td>891.000000</td>\n",
       "      <td>891.000000</td>\n",
       "    </tr>\n",
       "    <tr>\n",
       "      <th>mean</th>\n",
       "      <td>446.000000</td>\n",
       "      <td>0.383838</td>\n",
       "      <td>2.308642</td>\n",
       "      <td>29.699118</td>\n",
       "      <td>0.523008</td>\n",
       "      <td>0.381594</td>\n",
       "      <td>32.204208</td>\n",
       "    </tr>\n",
       "    <tr>\n",
       "      <th>std</th>\n",
       "      <td>257.353842</td>\n",
       "      <td>0.486592</td>\n",
       "      <td>0.836071</td>\n",
       "      <td>14.526497</td>\n",
       "      <td>1.102743</td>\n",
       "      <td>0.806057</td>\n",
       "      <td>49.693429</td>\n",
       "    </tr>\n",
       "    <tr>\n",
       "      <th>min</th>\n",
       "      <td>1.000000</td>\n",
       "      <td>0.000000</td>\n",
       "      <td>1.000000</td>\n",
       "      <td>0.420000</td>\n",
       "      <td>0.000000</td>\n",
       "      <td>0.000000</td>\n",
       "      <td>0.000000</td>\n",
       "    </tr>\n",
       "    <tr>\n",
       "      <th>25%</th>\n",
       "      <td>223.500000</td>\n",
       "      <td>0.000000</td>\n",
       "      <td>2.000000</td>\n",
       "      <td>20.125000</td>\n",
       "      <td>0.000000</td>\n",
       "      <td>0.000000</td>\n",
       "      <td>7.910400</td>\n",
       "    </tr>\n",
       "    <tr>\n",
       "      <th>50%</th>\n",
       "      <td>446.000000</td>\n",
       "      <td>0.000000</td>\n",
       "      <td>3.000000</td>\n",
       "      <td>28.000000</td>\n",
       "      <td>0.000000</td>\n",
       "      <td>0.000000</td>\n",
       "      <td>14.454200</td>\n",
       "    </tr>\n",
       "    <tr>\n",
       "      <th>75%</th>\n",
       "      <td>668.500000</td>\n",
       "      <td>1.000000</td>\n",
       "      <td>3.000000</td>\n",
       "      <td>38.000000</td>\n",
       "      <td>1.000000</td>\n",
       "      <td>0.000000</td>\n",
       "      <td>31.000000</td>\n",
       "    </tr>\n",
       "    <tr>\n",
       "      <th>max</th>\n",
       "      <td>891.000000</td>\n",
       "      <td>1.000000</td>\n",
       "      <td>3.000000</td>\n",
       "      <td>80.000000</td>\n",
       "      <td>8.000000</td>\n",
       "      <td>6.000000</td>\n",
       "      <td>512.329200</td>\n",
       "    </tr>\n",
       "  </tbody>\n",
       "</table>\n",
       "</div>"
      ],
      "text/plain": [
       "       PassengerId    Survived      Pclass         Age       SibSp  \\\n",
       "count   891.000000  891.000000  891.000000  714.000000  891.000000   \n",
       "mean    446.000000    0.383838    2.308642   29.699118    0.523008   \n",
       "std     257.353842    0.486592    0.836071   14.526497    1.102743   \n",
       "min       1.000000    0.000000    1.000000    0.420000    0.000000   \n",
       "25%     223.500000    0.000000    2.000000   20.125000    0.000000   \n",
       "50%     446.000000    0.000000    3.000000   28.000000    0.000000   \n",
       "75%     668.500000    1.000000    3.000000   38.000000    1.000000   \n",
       "max     891.000000    1.000000    3.000000   80.000000    8.000000   \n",
       "\n",
       "            Parch        Fare  \n",
       "count  891.000000  891.000000  \n",
       "mean     0.381594   32.204208  \n",
       "std      0.806057   49.693429  \n",
       "min      0.000000    0.000000  \n",
       "25%      0.000000    7.910400  \n",
       "50%      0.000000   14.454200  \n",
       "75%      0.000000   31.000000  \n",
       "max      6.000000  512.329200  "
      ]
     },
     "execution_count": 15,
     "metadata": {},
     "output_type": "execute_result"
    }
   ],
   "source": [
    "df.describe()"
   ]
  },
  {
   "cell_type": "code",
   "execution_count": 16,
   "metadata": {},
   "outputs": [
    {
     "data": {
      "text/plain": [
       "PassengerId      0\n",
       "Survived         0\n",
       "Pclass           0\n",
       "Name             0\n",
       "Sex              0\n",
       "Age            177\n",
       "SibSp            0\n",
       "Parch            0\n",
       "Ticket           0\n",
       "Fare             0\n",
       "Cabin          687\n",
       "Embarked         2\n",
       "dtype: int64"
      ]
     },
     "execution_count": 16,
     "metadata": {},
     "output_type": "execute_result"
    }
   ],
   "source": [
    "df.isnull().sum()"
   ]
  },
  {
   "cell_type": "code",
   "execution_count": 17,
   "metadata": {},
   "outputs": [],
   "source": [
    "df=df.dropna(subset=['Embarked'])"
   ]
  },
  {
   "cell_type": "code",
   "execution_count": 18,
   "metadata": {},
   "outputs": [
    {
     "data": {
      "text/html": [
       "<div>\n",
       "<style scoped>\n",
       "    .dataframe tbody tr th:only-of-type {\n",
       "        vertical-align: middle;\n",
       "    }\n",
       "\n",
       "    .dataframe tbody tr th {\n",
       "        vertical-align: top;\n",
       "    }\n",
       "\n",
       "    .dataframe thead th {\n",
       "        text-align: right;\n",
       "    }\n",
       "</style>\n",
       "<table border=\"1\" class=\"dataframe\">\n",
       "  <thead>\n",
       "    <tr style=\"text-align: right;\">\n",
       "      <th></th>\n",
       "      <th>PassengerId</th>\n",
       "      <th>Survived</th>\n",
       "      <th>Pclass</th>\n",
       "      <th>Name</th>\n",
       "      <th>Sex</th>\n",
       "      <th>Age</th>\n",
       "      <th>SibSp</th>\n",
       "      <th>Parch</th>\n",
       "      <th>Ticket</th>\n",
       "      <th>Fare</th>\n",
       "      <th>Cabin</th>\n",
       "      <th>Embarked_Q</th>\n",
       "      <th>Embarked_S</th>\n",
       "    </tr>\n",
       "  </thead>\n",
       "  <tbody>\n",
       "    <tr>\n",
       "      <th>0</th>\n",
       "      <td>1</td>\n",
       "      <td>0</td>\n",
       "      <td>3</td>\n",
       "      <td>Braund, Mr. Owen Harris</td>\n",
       "      <td>male</td>\n",
       "      <td>22.0</td>\n",
       "      <td>1</td>\n",
       "      <td>0</td>\n",
       "      <td>A/5 21171</td>\n",
       "      <td>7.2500</td>\n",
       "      <td>NaN</td>\n",
       "      <td>0</td>\n",
       "      <td>1</td>\n",
       "    </tr>\n",
       "    <tr>\n",
       "      <th>1</th>\n",
       "      <td>2</td>\n",
       "      <td>1</td>\n",
       "      <td>1</td>\n",
       "      <td>Cumings, Mrs. John Bradley (Florence Briggs Th...</td>\n",
       "      <td>female</td>\n",
       "      <td>38.0</td>\n",
       "      <td>1</td>\n",
       "      <td>0</td>\n",
       "      <td>PC 17599</td>\n",
       "      <td>71.2833</td>\n",
       "      <td>C85</td>\n",
       "      <td>0</td>\n",
       "      <td>0</td>\n",
       "    </tr>\n",
       "    <tr>\n",
       "      <th>2</th>\n",
       "      <td>3</td>\n",
       "      <td>1</td>\n",
       "      <td>3</td>\n",
       "      <td>Heikkinen, Miss. Laina</td>\n",
       "      <td>female</td>\n",
       "      <td>26.0</td>\n",
       "      <td>0</td>\n",
       "      <td>0</td>\n",
       "      <td>STON/O2. 3101282</td>\n",
       "      <td>7.9250</td>\n",
       "      <td>NaN</td>\n",
       "      <td>0</td>\n",
       "      <td>1</td>\n",
       "    </tr>\n",
       "    <tr>\n",
       "      <th>3</th>\n",
       "      <td>4</td>\n",
       "      <td>1</td>\n",
       "      <td>1</td>\n",
       "      <td>Futrelle, Mrs. Jacques Heath (Lily May Peel)</td>\n",
       "      <td>female</td>\n",
       "      <td>35.0</td>\n",
       "      <td>1</td>\n",
       "      <td>0</td>\n",
       "      <td>113803</td>\n",
       "      <td>53.1000</td>\n",
       "      <td>C123</td>\n",
       "      <td>0</td>\n",
       "      <td>1</td>\n",
       "    </tr>\n",
       "    <tr>\n",
       "      <th>4</th>\n",
       "      <td>5</td>\n",
       "      <td>0</td>\n",
       "      <td>3</td>\n",
       "      <td>Allen, Mr. William Henry</td>\n",
       "      <td>male</td>\n",
       "      <td>35.0</td>\n",
       "      <td>0</td>\n",
       "      <td>0</td>\n",
       "      <td>373450</td>\n",
       "      <td>8.0500</td>\n",
       "      <td>NaN</td>\n",
       "      <td>0</td>\n",
       "      <td>1</td>\n",
       "    </tr>\n",
       "    <tr>\n",
       "      <th>...</th>\n",
       "      <td>...</td>\n",
       "      <td>...</td>\n",
       "      <td>...</td>\n",
       "      <td>...</td>\n",
       "      <td>...</td>\n",
       "      <td>...</td>\n",
       "      <td>...</td>\n",
       "      <td>...</td>\n",
       "      <td>...</td>\n",
       "      <td>...</td>\n",
       "      <td>...</td>\n",
       "      <td>...</td>\n",
       "      <td>...</td>\n",
       "    </tr>\n",
       "    <tr>\n",
       "      <th>886</th>\n",
       "      <td>887</td>\n",
       "      <td>0</td>\n",
       "      <td>2</td>\n",
       "      <td>Montvila, Rev. Juozas</td>\n",
       "      <td>male</td>\n",
       "      <td>27.0</td>\n",
       "      <td>0</td>\n",
       "      <td>0</td>\n",
       "      <td>211536</td>\n",
       "      <td>13.0000</td>\n",
       "      <td>NaN</td>\n",
       "      <td>0</td>\n",
       "      <td>1</td>\n",
       "    </tr>\n",
       "    <tr>\n",
       "      <th>887</th>\n",
       "      <td>888</td>\n",
       "      <td>1</td>\n",
       "      <td>1</td>\n",
       "      <td>Graham, Miss. Margaret Edith</td>\n",
       "      <td>female</td>\n",
       "      <td>19.0</td>\n",
       "      <td>0</td>\n",
       "      <td>0</td>\n",
       "      <td>112053</td>\n",
       "      <td>30.0000</td>\n",
       "      <td>B42</td>\n",
       "      <td>0</td>\n",
       "      <td>1</td>\n",
       "    </tr>\n",
       "    <tr>\n",
       "      <th>888</th>\n",
       "      <td>889</td>\n",
       "      <td>0</td>\n",
       "      <td>3</td>\n",
       "      <td>Johnston, Miss. Catherine Helen \"Carrie\"</td>\n",
       "      <td>female</td>\n",
       "      <td>NaN</td>\n",
       "      <td>1</td>\n",
       "      <td>2</td>\n",
       "      <td>W./C. 6607</td>\n",
       "      <td>23.4500</td>\n",
       "      <td>NaN</td>\n",
       "      <td>0</td>\n",
       "      <td>1</td>\n",
       "    </tr>\n",
       "    <tr>\n",
       "      <th>889</th>\n",
       "      <td>890</td>\n",
       "      <td>1</td>\n",
       "      <td>1</td>\n",
       "      <td>Behr, Mr. Karl Howell</td>\n",
       "      <td>male</td>\n",
       "      <td>26.0</td>\n",
       "      <td>0</td>\n",
       "      <td>0</td>\n",
       "      <td>111369</td>\n",
       "      <td>30.0000</td>\n",
       "      <td>C148</td>\n",
       "      <td>0</td>\n",
       "      <td>0</td>\n",
       "    </tr>\n",
       "    <tr>\n",
       "      <th>890</th>\n",
       "      <td>891</td>\n",
       "      <td>0</td>\n",
       "      <td>3</td>\n",
       "      <td>Dooley, Mr. Patrick</td>\n",
       "      <td>male</td>\n",
       "      <td>32.0</td>\n",
       "      <td>0</td>\n",
       "      <td>0</td>\n",
       "      <td>370376</td>\n",
       "      <td>7.7500</td>\n",
       "      <td>NaN</td>\n",
       "      <td>1</td>\n",
       "      <td>0</td>\n",
       "    </tr>\n",
       "  </tbody>\n",
       "</table>\n",
       "<p>889 rows × 13 columns</p>\n",
       "</div>"
      ],
      "text/plain": [
       "     PassengerId  Survived  Pclass  \\\n",
       "0              1         0       3   \n",
       "1              2         1       1   \n",
       "2              3         1       3   \n",
       "3              4         1       1   \n",
       "4              5         0       3   \n",
       "..           ...       ...     ...   \n",
       "886          887         0       2   \n",
       "887          888         1       1   \n",
       "888          889         0       3   \n",
       "889          890         1       1   \n",
       "890          891         0       3   \n",
       "\n",
       "                                                  Name     Sex   Age  SibSp  \\\n",
       "0                              Braund, Mr. Owen Harris    male  22.0      1   \n",
       "1    Cumings, Mrs. John Bradley (Florence Briggs Th...  female  38.0      1   \n",
       "2                               Heikkinen, Miss. Laina  female  26.0      0   \n",
       "3         Futrelle, Mrs. Jacques Heath (Lily May Peel)  female  35.0      1   \n",
       "4                             Allen, Mr. William Henry    male  35.0      0   \n",
       "..                                                 ...     ...   ...    ...   \n",
       "886                              Montvila, Rev. Juozas    male  27.0      0   \n",
       "887                       Graham, Miss. Margaret Edith  female  19.0      0   \n",
       "888           Johnston, Miss. Catherine Helen \"Carrie\"  female   NaN      1   \n",
       "889                              Behr, Mr. Karl Howell    male  26.0      0   \n",
       "890                                Dooley, Mr. Patrick    male  32.0      0   \n",
       "\n",
       "     Parch            Ticket     Fare Cabin  Embarked_Q  Embarked_S  \n",
       "0        0         A/5 21171   7.2500   NaN           0           1  \n",
       "1        0          PC 17599  71.2833   C85           0           0  \n",
       "2        0  STON/O2. 3101282   7.9250   NaN           0           1  \n",
       "3        0            113803  53.1000  C123           0           1  \n",
       "4        0            373450   8.0500   NaN           0           1  \n",
       "..     ...               ...      ...   ...         ...         ...  \n",
       "886      0            211536  13.0000   NaN           0           1  \n",
       "887      0            112053  30.0000   B42           0           1  \n",
       "888      2        W./C. 6607  23.4500   NaN           0           1  \n",
       "889      0            111369  30.0000  C148           0           0  \n",
       "890      0            370376   7.7500   NaN           1           0  \n",
       "\n",
       "[889 rows x 13 columns]"
      ]
     },
     "execution_count": 18,
     "metadata": {},
     "output_type": "execute_result"
    }
   ],
   "source": [
    "pd.get_dummies(df,columns=['Embarked'],drop_first=True)"
   ]
  },
  {
   "cell_type": "code",
   "execution_count": 19,
   "metadata": {},
   "outputs": [],
   "source": [
    "def mr(name):\n",
    "    if 'Mrs' in name:\n",
    "        return 'Mrs'\n",
    "    elif 'Mr' in name:\n",
    "        return 'Mr'\n",
    "    else:\n",
    "        return \"Miss\""
   ]
  },
  {
   "cell_type": "code",
   "execution_count": 20,
   "metadata": {},
   "outputs": [
    {
     "data": {
      "text/plain": [
       "0"
      ]
     },
     "execution_count": 20,
     "metadata": {},
     "output_type": "execute_result"
    }
   ],
   "source": [
    "df['Name'].apply(mr).isnull().sum()"
   ]
  },
  {
   "cell_type": "code",
   "execution_count": 21,
   "metadata": {},
   "outputs": [],
   "source": [
    "df['fName']=df['Name'].apply(mr)"
   ]
  },
  {
   "cell_type": "code",
   "execution_count": 22,
   "metadata": {},
   "outputs": [],
   "source": [
    "df.drop('Name',inplace=True,axis=1)"
   ]
  },
  {
   "cell_type": "code",
   "execution_count": 23,
   "metadata": {},
   "outputs": [],
   "source": [
    "df.drop('Ticket',axis=1,inplace=True)"
   ]
  },
  {
   "cell_type": "code",
   "execution_count": 24,
   "metadata": {},
   "outputs": [],
   "source": [
    "df.drop('Cabin',axis=1,inplace=True)"
   ]
  },
  {
   "cell_type": "code",
   "execution_count": 25,
   "metadata": {},
   "outputs": [
    {
     "data": {
      "text/plain": [
       "<matplotlib.axes._subplots.AxesSubplot at 0x7fc355b75588>"
      ]
     },
     "execution_count": 25,
     "metadata": {},
     "output_type": "execute_result"
    },
    {
     "data": {
      "image/png": "[encoded data removed]",
      "text/plain": [
       "<Figure size 432x288 with 2 Axes>"
      ]
     },
     "metadata": {
      "needs_background": "light"
     },
     "output_type": "display_data"
    }
   ],
   "source": [
    "sns.heatmap(df.corr())"
   ]
  },
  {
   "cell_type": "code",
   "execution_count": 26,
   "metadata": {},
   "outputs": [
    {
     "data": {
      "text/plain": [
       "29.64209269662921"
      ]
     },
     "execution_count": 26,
     "metadata": {},
     "output_type": "execute_result"
    },
    {
     "data": {
      "image/png": "[encoded data removed]",
      "text/plain": [
       "<Figure size 432x288 with 1 Axes>"
      ]
     },
     "metadata": {
      "needs_background": "light"
     },
     "output_type": "display_data"
    }
   ],
   "source": [
    "sns.distplot(df['Age'].dropna())\n",
    "df['Age'].mean()"
   ]
  },
  {
   "cell_type": "code",
   "execution_count": 27,
   "metadata": {},
   "outputs": [],
   "source": [
    "def ageRange(age):\n",
    "    if age<10:\n",
    "        return '<10'\n",
    "    elif age<20:\n",
    "        return '10-20'\n",
    "    elif age<30:\n",
    "        return '20-30'\n",
    "    elif age<40:\n",
    "        return '30-40'\n",
    "    elif age<50:\n",
    "        return '40-50'\n",
    "    elif age<60:\n",
    "        return '50-60'\n",
    "    elif age<70:\n",
    "        return '60-70'\n",
    "    elif age<80:\n",
    "        return '70-80'\n",
    "    else:\n",
    "        return 'Null'"
   ]
  },
  {
   "cell_type": "code",
   "execution_count": 28,
   "metadata": {},
   "outputs": [],
   "source": [
    "df['range']=df['Age'].apply(ageRange)"
   ]
  },
  {
   "cell_type": "code",
   "execution_count": 29,
   "metadata": {},
   "outputs": [
    {
     "data": {
      "text/html": [
       "<div>\n",
       "<style scoped>\n",
       "    .dataframe tbody tr th:only-of-type {\n",
       "        vertical-align: middle;\n",
       "    }\n",
       "\n",
       "    .dataframe tbody tr th {\n",
       "        vertical-align: top;\n",
       "    }\n",
       "\n",
       "    .dataframe thead th {\n",
       "        text-align: right;\n",
       "    }\n",
       "</style>\n",
       "<table border=\"1\" class=\"dataframe\">\n",
       "  <thead>\n",
       "    <tr style=\"text-align: right;\">\n",
       "      <th></th>\n",
       "      <th>range</th>\n",
       "      <th>Age</th>\n",
       "    </tr>\n",
       "  </thead>\n",
       "  <tbody>\n",
       "    <tr>\n",
       "      <th>0</th>\n",
       "      <td>20-30</td>\n",
       "      <td>22.0</td>\n",
       "    </tr>\n",
       "    <tr>\n",
       "      <th>1</th>\n",
       "      <td>30-40</td>\n",
       "      <td>38.0</td>\n",
       "    </tr>\n",
       "    <tr>\n",
       "      <th>2</th>\n",
       "      <td>20-30</td>\n",
       "      <td>26.0</td>\n",
       "    </tr>\n",
       "    <tr>\n",
       "      <th>3</th>\n",
       "      <td>30-40</td>\n",
       "      <td>35.0</td>\n",
       "    </tr>\n",
       "    <tr>\n",
       "      <th>4</th>\n",
       "      <td>30-40</td>\n",
       "      <td>35.0</td>\n",
       "    </tr>\n",
       "    <tr>\n",
       "      <th>...</th>\n",
       "      <td>...</td>\n",
       "      <td>...</td>\n",
       "    </tr>\n",
       "    <tr>\n",
       "      <th>886</th>\n",
       "      <td>20-30</td>\n",
       "      <td>27.0</td>\n",
       "    </tr>\n",
       "    <tr>\n",
       "      <th>887</th>\n",
       "      <td>10-20</td>\n",
       "      <td>19.0</td>\n",
       "    </tr>\n",
       "    <tr>\n",
       "      <th>888</th>\n",
       "      <td>Null</td>\n",
       "      <td>NaN</td>\n",
       "    </tr>\n",
       "    <tr>\n",
       "      <th>889</th>\n",
       "      <td>20-30</td>\n",
       "      <td>26.0</td>\n",
       "    </tr>\n",
       "    <tr>\n",
       "      <th>890</th>\n",
       "      <td>30-40</td>\n",
       "      <td>32.0</td>\n",
       "    </tr>\n",
       "  </tbody>\n",
       "</table>\n",
       "<p>889 rows × 2 columns</p>\n",
       "</div>"
      ],
      "text/plain": [
       "     range   Age\n",
       "0    20-30  22.0\n",
       "1    30-40  38.0\n",
       "2    20-30  26.0\n",
       "3    30-40  35.0\n",
       "4    30-40  35.0\n",
       "..     ...   ...\n",
       "886  20-30  27.0\n",
       "887  10-20  19.0\n",
       "888   Null   NaN\n",
       "889  20-30  26.0\n",
       "890  30-40  32.0\n",
       "\n",
       "[889 rows x 2 columns]"
      ]
     },
     "execution_count": 29,
     "metadata": {},
     "output_type": "execute_result"
    }
   ],
   "source": [
    "df[['range','Age']]"
   ]
  },
  {
   "cell_type": "code",
   "execution_count": 30,
   "metadata": {},
   "outputs": [],
   "source": [
    "df.drop('Age',inplace=True,axis=1)"
   ]
  },
  {
   "cell_type": "code",
   "execution_count": 31,
   "metadata": {},
   "outputs": [],
   "source": [
    "df=pd.get_dummies(df,drop_first=True)"
   ]
  },
  {
   "cell_type": "code",
   "execution_count": 32,
   "metadata": {},
   "outputs": [
    {
     "data": {
      "text/plain": [
       "<matplotlib.axes._subplots.AxesSubplot at 0x7fc35196a438>"
      ]
     },
     "execution_count": 32,
     "metadata": {},
     "output_type": "execute_result"
    },
    {
     "data": {
      "image/png": "[encoded data removed]",
      "text/plain": [
       "<Figure size 864x864 with 2 Axes>"
      ]
     },
     "metadata": {
      "needs_background": "light"
     },
     "output_type": "display_data"
    }
   ],
   "source": [
    "plt.figure(figsize=(12,12))\n",
    "sns.heatmap(df.corr(),annot=True)"
   ]
  },
  {
   "cell_type": "markdown",
   "metadata": {},
   "source": [
    "# Train Test Split"
   ]
  },
  {
   "cell_type": "code",
   "execution_count": 33,
   "metadata": {},
   "outputs": [],
   "source": [
    "from sklearn.model_selection import train_test_split\n",
    "from sklearn.preprocessing import MinMaxScaler,StandardScaler\n",
    "scaler=MinMaxScaler()"
   ]
  },
  {
   "cell_type": "code",
   "execution_count": 34,
   "metadata": {},
   "outputs": [],
   "source": [
    "X=df.drop(['PassengerId','Survived'],axis=1).values\n",
    "y=df['Survived'].values"
   ]
  },
  {
   "cell_type": "code",
   "execution_count": 35,
   "metadata": {},
   "outputs": [],
   "source": [
    "X_train,X_test,y_train,y_test=train_test_split(X,y,test_size=0.3,random_state=101)"
   ]
  },
  {
   "cell_type": "code",
   "execution_count": 36,
   "metadata": {},
   "outputs": [],
   "source": [
    "from sklearn.linear_model import LogisticRegression\n",
    "from sklearn.ensemble import RandomForestClassifier\n",
    "model= LogisticRegression()\n",
    "#X_train=scaler.fit_transform(X_train)\n",
    "#X_test=scaler.transform(X_test)"
   ]
  },
  {
   "cell_type": "code",
   "execution_count": 37,
   "metadata": {},
   "outputs": [
    {
     "name": "stderr",
     "output_type": "stream",
     "text": [
      "/opt/conda/lib/python3.7/site-packages/sklearn/linear_model/logistic.py:432: FutureWarning: Default solver will be changed to 'lbfgs' in 0.22. Specify a solver to silence this warning.\n",
      "  FutureWarning)\n"
     ]
    },
    {
     "data": {
      "text/plain": [
       "LogisticRegression(C=1.0, class_weight=None, dual=False, fit_intercept=True,\n",
       "                   intercept_scaling=1, l1_ratio=None, max_iter=100,\n",
       "                   multi_class='warn', n_jobs=None, penalty='l2',\n",
       "                   random_state=None, solver='warn', tol=0.0001, verbose=0,\n",
       "                   warm_start=False)"
      ]
     },
     "execution_count": 37,
     "metadata": {},
     "output_type": "execute_result"
    }
   ],
   "source": [
    "model.fit(X_train,y_train)"
   ]
  },
  {
   "cell_type": "code",
   "execution_count": 38,
   "metadata": {},
   "outputs": [],
   "source": [
    "predictions = model.predict(X_test)"
   ]
  },
  {
   "cell_type": "code",
   "execution_count": 39,
   "metadata": {},
   "outputs": [
    {
     "name": "stdout",
     "output_type": "stream",
     "text": [
      "              precision    recall  f1-score   support\n",
      "\n",
      "           0       0.83      0.92      0.87       163\n",
      "           1       0.85      0.70      0.77       104\n",
      "\n",
      "    accuracy                           0.84       267\n",
      "   macro avg       0.84      0.81      0.82       267\n",
      "weighted avg       0.84      0.84      0.83       267\n",
      "\n"
     ]
    }
   ],
   "source": [
    "from sklearn.metrics import classification_report,confusion_matrix\n",
    "print (classification_report(y_test,predictions))"
   ]
  },
  {
   "cell_type": "markdown",
   "metadata": {},
   "source": [
    "# Test Data"
   ]
  },
  {
   "cell_type": "code",
   "execution_count": 108,
   "metadata": {},
   "outputs": [],
   "source": [
    "df2=pd.read_csv('test.csv')"
   ]
  },
  {
   "cell_type": "code",
   "execution_count": 142,
   "metadata": {},
   "outputs": [
    {
     "data": {
      "text/plain": [
       "418"
      ]
     },
     "execution_count": 142,
     "metadata": {},
     "output_type": "execute_result"
    }
   ],
   "source": [
    "len(df2)"
   ]
  },
  {
   "cell_type": "code",
   "execution_count": 110,
   "metadata": {},
   "outputs": [],
   "source": [
    "df2.drop('Cabin',axis=1,inplace=True)"
   ]
  },
  {
   "cell_type": "code",
   "execution_count": 113,
   "metadata": {},
   "outputs": [],
   "source": [
    "df2['Fare']=df2['Fare'].fillna(df2['Fare'].mean())"
   ]
  },
  {
   "cell_type": "code",
   "execution_count": 117,
   "metadata": {},
   "outputs": [],
   "source": [
    "df2['range']=df2['Age'].apply(ageRange)"
   ]
  },
  {
   "cell_type": "code",
   "execution_count": 120,
   "metadata": {},
   "outputs": [],
   "source": [
    "df2['fName']=df2['Name'].apply(mr)"
   ]
  },
  {
   "cell_type": "code",
   "execution_count": 124,
   "metadata": {},
   "outputs": [],
   "source": [
    "df2.drop(['Name','Age','Ticket'],inplace=True,axis=1)"
   ]
  },
  {
   "cell_type": "code",
   "execution_count": 150,
   "metadata": {},
   "outputs": [
    {
     "data": {
      "text/plain": [
       "Index(['PassengerId', 'Survived', 'Pclass', 'SibSp', 'Parch', 'Fare',\n",
       "       'Sex_male', 'Embarked_Q', 'Embarked_S', 'fName_Mr', 'fName_Mrs',\n",
       "       'range_20-30', 'range_30-40', 'range_40-50', 'range_50-60',\n",
       "       'range_60-70', 'range_70-80', 'range_<10', 'range_Null'],\n",
       "      dtype='object')"
      ]
     },
     "execution_count": 150,
     "metadata": {},
     "output_type": "execute_result"
    }
   ],
   "source": [
    "df.columns"
   ]
  },
  {
   "cell_type": "code",
   "execution_count": 153,
   "metadata": {},
   "outputs": [
    {
     "data": {
      "text/plain": [
       "Index(['PassengerId', 'Pclass', 'SibSp', 'Parch', 'Fare', 'Sex_male',\n",
       "       'Embarked_Q', 'Embarked_S', 'fName_Mr', 'fName_Mrs', 'range_20-30',\n",
       "       'range_30-40', 'range_40-50', 'range_50-60', 'range_60-70',\n",
       "       'range_70-80', 'range_<10', 'range_Null'],\n",
       "      dtype='object')"
      ]
     },
     "execution_count": 153,
     "metadata": {},
     "output_type": "execute_result"
    }
   ],
   "source": [
    "df2 = df2[['PassengerId', 'Pclass', 'SibSp', 'Parch', 'Fare',\n",
    "       'Sex_male', 'Embarked_Q', 'Embarked_S', 'fName_Mr', 'fName_Mrs',\n",
    "       'range_20-30', 'range_30-40', 'range_40-50', 'range_50-60',\n",
    "       'range_60-70', 'range_70-80', 'range_<10', 'range_Null']]\n",
    "df2.columns"
   ]
  },
  {
   "cell_type": "code",
   "execution_count": 129,
   "metadata": {},
   "outputs": [],
   "source": [
    "df2=pd.get_dummies(df2,columns=['Embarked','Sex','range','fName'],drop_first=True)"
   ]
  },
  {
   "cell_type": "code",
   "execution_count": 154,
   "metadata": {},
   "outputs": [
    {
     "name": "stderr",
     "output_type": "stream",
     "text": [
      "/opt/conda/lib/python3.7/site-packages/sklearn/linear_model/logistic.py:432: FutureWarning: Default solver will be changed to 'lbfgs' in 0.22. Specify a solver to silence this warning.\n",
      "  FutureWarning)\n"
     ]
    },
    {
     "data": {
      "text/plain": [
       "LogisticRegression(C=1.0, class_weight=None, dual=False, fit_intercept=True,\n",
       "                   intercept_scaling=1, l1_ratio=None, max_iter=100,\n",
       "                   multi_class='warn', n_jobs=None, penalty='l2',\n",
       "                   random_state=None, solver='warn', tol=0.0001, verbose=0,\n",
       "                   warm_start=False)"
      ]
     },
     "execution_count": 154,
     "metadata": {},
     "output_type": "execute_result"
    }
   ],
   "source": [
    "model=LogisticRegression()\n",
    "model.fit(df.drop(['PassengerId','Survived'],axis=1).values,\n",
    "df['Survived'].values)"
   ]
  },
  {
   "cell_type": "code",
   "execution_count": 155,
   "metadata": {},
   "outputs": [],
   "source": [
    "results=model.predict(df2.drop('PassengerId',axis=1))"
   ]
  },
  {
   "cell_type": "code",
   "execution_count": 156,
   "metadata": {},
   "outputs": [],
   "source": [
    "results = pd.DataFrame(results)\n",
    "results.columns =['Survived']"
   ]
  },
  {
   "cell_type": "code",
   "execution_count": 157,
   "metadata": {},
   "outputs": [],
   "source": [
    "survived=pd.concat([df2,results],axis=1)"
   ]
  },
  {
   "cell_type": "code",
   "execution_count": 158,
   "metadata": {},
   "outputs": [],
   "source": [
    "survived[['PassengerId','Survived']].to_csv(\"result5.csv\",index=None)"
   ]
  },
  {
   "cell_type": "code",
   "execution_count": 160,
   "metadata": {},
   "outputs": [
    {
     "data": {
      "text/plain": [
       "<matplotlib.axes._subplots.AxesSubplot at 0x7fe014d370f0>"
      ]
     },
     "execution_count": 160,
     "metadata": {},
     "output_type": "execute_result"
    },
    {
     "data": {
      "image/png": "[encoded data removed]",
      "text/plain": [
       "<Figure size 432x288 with 1 Axes>"
      ]
     },
     "metadata": {
      "needs_background": "light"
     },
     "output_type": "display_data"
    }
   ],
   "source": [
    "sns.countplot(survived['Survived'],hue=survived['Sex_male'])"
   ]
  },
  {
   "cell_type": "markdown",
   "metadata": {},
   "source": [
    "# Tensorflow?"
   ]
  },
  {
   "cell_type": "code",
   "execution_count": 61,
   "metadata": {},
   "outputs": [
    {
     "data": {
      "text/plain": [
       "(622, 17)"
      ]
     },
     "execution_count": 61,
     "metadata": {},
     "output_type": "execute_result"
    }
   ],
   "source": [
    "from tensorflow.keras.layers import Dense,Dropout\n",
    "from tensorflow.keras.models import Sequential\n",
    "from tensorflow.keras.callbacks import EarlyStopping\n",
    "\n",
    "Early_stop = EarlyStopping(patience=10,mode='min')\n",
    "X_train.shape"
   ]
  },
  {
   "cell_type": "code",
   "execution_count": 62,
   "metadata": {},
   "outputs": [],
   "source": [
    "model=Sequential()\n",
    "\n",
    "#Input layer\n",
    "model.add(Dense(17,activation='relu'))\n",
    "model.add(Dropout(0.3))\n",
    "\n",
    "#Hidden Layer\n",
    "model.add(Dense(16,activation='relu'))\n",
    "model.add(Dropout(0.3))\n",
    "\n",
    "model.add(Dense(16,activation='relu'))\n",
    "model.add(Dropout(0.3))\n",
    "\n",
    "model.add(Dense(8,activation='relu'))\n",
    "model.add(Dropout(0.3))\n",
    "\n",
    "model.add(Dense(4,activation='relu'))\n",
    "model.add(Dropout(0.3))\n",
    "\n",
    "\n",
    "#Output Layer\n",
    "model.add(Dense(1,activation='sigmoid'))\n",
    "\n",
    "model.compile(loss='mean_squared_error', optimizer='adam')"
   ]
  },
  {
   "cell_type": "code",
   "execution_count": 63,
   "metadata": {},
   "outputs": [
    {
     "name": "stdout",
     "output_type": "stream",
     "text": [
      "Train on 622 samples, validate on 267 samples\n",
      "Epoch 1/200\n",
      "622/622 [==============================] - 1s 1ms/sample - loss: 0.2694 - val_loss: 0.2456\n",
      "Epoch 2/200\n",
      "622/622 [==============================] - 0s 144us/sample - loss: 0.2571 - val_loss: 0.2467\n",
      "Epoch 3/200\n",
      "622/622 [==============================] - 0s 140us/sample - loss: 0.2460 - val_loss: 0.2453\n",
      "Epoch 4/200\n",
      "622/622 [==============================] - 0s 141us/sample - loss: 0.2455 - val_loss: 0.2442\n",
      "Epoch 5/200\n",
      "622/622 [==============================] - 0s 131us/sample - loss: 0.2454 - val_loss: 0.2428\n",
      "Epoch 6/200\n",
      "622/622 [==============================] - 0s 136us/sample - loss: 0.2421 - val_loss: 0.2413\n",
      "Epoch 7/200\n",
      "622/622 [==============================] - 0s 137us/sample - loss: 0.2385 - val_loss: 0.2403\n",
      "Epoch 8/200\n",
      "622/622 [==============================] - 0s 129us/sample - loss: 0.2376 - val_loss: 0.2392\n",
      "Epoch 9/200\n",
      "622/622 [==============================] - 0s 133us/sample - loss: 0.2421 - val_loss: 0.2388\n",
      "Epoch 10/200\n",
      "622/622 [==============================] - 0s 134us/sample - loss: 0.2368 - val_loss: 0.2385\n",
      "Epoch 11/200\n",
      "622/622 [==============================] - 0s 135us/sample - loss: 0.2391 - val_loss: 0.2383\n",
      "Epoch 12/200\n",
      "622/622 [==============================] - 0s 143us/sample - loss: 0.2394 - val_loss: 0.2375\n",
      "Epoch 13/200\n",
      "622/622 [==============================] - 0s 131us/sample - loss: 0.2363 - val_loss: 0.2368\n",
      "Epoch 14/200\n",
      "622/622 [==============================] - 0s 134us/sample - loss: 0.2352 - val_loss: 0.2360\n",
      "Epoch 15/200\n",
      "622/622 [==============================] - 0s 138us/sample - loss: 0.2345 - val_loss: 0.2349\n",
      "Epoch 16/200\n",
      "622/622 [==============================] - 0s 139us/sample - loss: 0.2340 - val_loss: 0.2345\n",
      "Epoch 17/200\n",
      "622/622 [==============================] - 0s 137us/sample - loss: 0.2348 - val_loss: 0.2348\n",
      "Epoch 18/200\n",
      "622/622 [==============================] - 0s 138us/sample - loss: 0.2286 - val_loss: 0.2329\n",
      "Epoch 19/200\n",
      "622/622 [==============================] - 0s 137us/sample - loss: 0.2336 - val_loss: 0.2327\n",
      "Epoch 20/200\n",
      "622/622 [==============================] - 0s 141us/sample - loss: 0.2295 - val_loss: 0.2312\n",
      "Epoch 21/200\n",
      "622/622 [==============================] - 0s 136us/sample - loss: 0.2314 - val_loss: 0.2311\n",
      "Epoch 22/200\n",
      "622/622 [==============================] - 0s 132us/sample - loss: 0.2324 - val_loss: 0.2306\n",
      "Epoch 23/200\n",
      "622/622 [==============================] - 0s 138us/sample - loss: 0.2331 - val_loss: 0.2309\n",
      "Epoch 24/200\n",
      "622/622 [==============================] - 0s 140us/sample - loss: 0.2318 - val_loss: 0.2319\n",
      "Epoch 25/200\n",
      "622/622 [==============================] - 0s 133us/sample - loss: 0.2284 - val_loss: 0.2299\n",
      "Epoch 26/200\n",
      "622/622 [==============================] - 0s 145us/sample - loss: 0.2321 - val_loss: 0.2286\n",
      "Epoch 27/200\n",
      "622/622 [==============================] - 0s 134us/sample - loss: 0.2285 - val_loss: 0.2304\n",
      "Epoch 28/200\n",
      "622/622 [==============================] - 0s 141us/sample - loss: 0.2271 - val_loss: 0.2298\n",
      "Epoch 29/200\n",
      "622/622 [==============================] - 0s 153us/sample - loss: 0.2256 - val_loss: 0.2298\n",
      "Epoch 30/200\n",
      "622/622 [==============================] - 0s 156us/sample - loss: 0.2247 - val_loss: 0.2278\n",
      "Epoch 31/200\n",
      "622/622 [==============================] - 0s 160us/sample - loss: 0.2276 - val_loss: 0.2286\n",
      "Epoch 32/200\n",
      "622/622 [==============================] - 0s 159us/sample - loss: 0.2269 - val_loss: 0.2289\n",
      "Epoch 33/200\n",
      "622/622 [==============================] - 0s 130us/sample - loss: 0.2243 - val_loss: 0.2291\n",
      "Epoch 34/200\n",
      "622/622 [==============================] - 0s 145us/sample - loss: 0.2240 - val_loss: 0.2284\n",
      "Epoch 35/200\n",
      "622/622 [==============================] - 0s 148us/sample - loss: 0.2257 - val_loss: 0.2280\n",
      "Epoch 36/200\n",
      "622/622 [==============================] - 0s 154us/sample - loss: 0.2259 - val_loss: 0.2277\n",
      "Epoch 37/200\n",
      "622/622 [==============================] - 0s 158us/sample - loss: 0.2266 - val_loss: 0.2285\n",
      "Epoch 38/200\n",
      "622/622 [==============================] - 0s 158us/sample - loss: 0.2272 - val_loss: 0.2284\n",
      "Epoch 39/200\n",
      "622/622 [==============================] - 0s 155us/sample - loss: 0.2300 - val_loss: 0.2282\n",
      "Epoch 40/200\n",
      "622/622 [==============================] - 0s 172us/sample - loss: 0.2205 - val_loss: 0.2267\n",
      "Epoch 41/200\n",
      "622/622 [==============================] - 0s 150us/sample - loss: 0.2267 - val_loss: 0.2250\n",
      "Epoch 42/200\n",
      "622/622 [==============================] - 0s 148us/sample - loss: 0.2220 - val_loss: 0.2235\n",
      "Epoch 43/200\n",
      "622/622 [==============================] - 0s 154us/sample - loss: 0.2300 - val_loss: 0.2255\n",
      "Epoch 44/200\n",
      "622/622 [==============================] - 0s 153us/sample - loss: 0.2250 - val_loss: 0.2261\n",
      "Epoch 45/200\n",
      "622/622 [==============================] - 0s 153us/sample - loss: 0.2189 - val_loss: 0.2244\n",
      "Epoch 46/200\n",
      "622/622 [==============================] - 0s 163us/sample - loss: 0.2272 - val_loss: 0.2238\n",
      "Epoch 47/200\n",
      "622/622 [==============================] - 0s 157us/sample - loss: 0.2265 - val_loss: 0.2233\n",
      "Epoch 48/200\n",
      "622/622 [==============================] - 0s 153us/sample - loss: 0.2246 - val_loss: 0.2230\n",
      "Epoch 49/200\n",
      "622/622 [==============================] - 0s 147us/sample - loss: 0.2213 - val_loss: 0.2199\n",
      "Epoch 50/200\n",
      "622/622 [==============================] - 0s 149us/sample - loss: 0.2256 - val_loss: 0.2220\n",
      "Epoch 51/200\n",
      "622/622 [==============================] - 0s 145us/sample - loss: 0.2195 - val_loss: 0.2214\n",
      "Epoch 52/200\n",
      "622/622 [==============================] - 0s 152us/sample - loss: 0.2192 - val_loss: 0.2186\n",
      "Epoch 53/200\n",
      "622/622 [==============================] - 0s 148us/sample - loss: 0.2248 - val_loss: 0.2222\n",
      "Epoch 54/200\n",
      "622/622 [==============================] - 0s 144us/sample - loss: 0.2163 - val_loss: 0.2210\n",
      "Epoch 55/200\n",
      "622/622 [==============================] - 0s 148us/sample - loss: 0.2211 - val_loss: 0.2189\n",
      "Epoch 56/200\n",
      "622/622 [==============================] - 0s 141us/sample - loss: 0.2181 - val_loss: 0.2229\n",
      "Epoch 57/200\n",
      "622/622 [==============================] - 0s 153us/sample - loss: 0.2207 - val_loss: 0.2203\n",
      "Epoch 58/200\n",
      "622/622 [==============================] - 0s 189us/sample - loss: 0.2210 - val_loss: 0.2181\n",
      "Epoch 59/200\n",
      "622/622 [==============================] - 0s 158us/sample - loss: 0.2217 - val_loss: 0.2148\n",
      "Epoch 60/200\n",
      "622/622 [==============================] - 0s 147us/sample - loss: 0.2163 - val_loss: 0.2149\n",
      "Epoch 61/200\n",
      "622/622 [==============================] - 0s 119us/sample - loss: 0.2186 - val_loss: 0.2171\n",
      "Epoch 62/200\n",
      "622/622 [==============================] - 0s 135us/sample - loss: 0.2199 - val_loss: 0.2171\n",
      "Epoch 63/200\n",
      "622/622 [==============================] - 0s 145us/sample - loss: 0.2154 - val_loss: 0.2142\n",
      "Epoch 64/200\n",
      "622/622 [==============================] - 0s 159us/sample - loss: 0.2186 - val_loss: 0.2148\n",
      "Epoch 65/200\n",
      "622/622 [==============================] - 0s 164us/sample - loss: 0.2188 - val_loss: 0.2167\n",
      "Epoch 66/200\n",
      "622/622 [==============================] - 0s 148us/sample - loss: 0.2101 - val_loss: 0.2158\n",
      "Epoch 67/200\n",
      "622/622 [==============================] - 0s 143us/sample - loss: 0.2146 - val_loss: 0.2131\n",
      "Epoch 68/200\n",
      "622/622 [==============================] - 0s 136us/sample - loss: 0.2178 - val_loss: 0.2091\n",
      "Epoch 69/200\n",
      "622/622 [==============================] - 0s 136us/sample - loss: 0.2133 - val_loss: 0.2071\n",
      "Epoch 70/200\n",
      "622/622 [==============================] - 0s 141us/sample - loss: 0.2149 - val_loss: 0.2062\n",
      "Epoch 71/200\n",
      "622/622 [==============================] - 0s 138us/sample - loss: 0.2101 - val_loss: 0.2067\n",
      "Epoch 72/200\n",
      "622/622 [==============================] - 0s 140us/sample - loss: 0.2230 - val_loss: 0.2058\n",
      "Epoch 73/200\n",
      "622/622 [==============================] - 0s 144us/sample - loss: 0.2187 - val_loss: 0.2063\n",
      "Epoch 74/200\n",
      "622/622 [==============================] - 0s 152us/sample - loss: 0.2167 - val_loss: 0.2085\n",
      "Epoch 75/200\n",
      "622/622 [==============================] - 0s 163us/sample - loss: 0.2015 - val_loss: 0.2028\n",
      "Epoch 76/200\n",
      "622/622 [==============================] - 0s 162us/sample - loss: 0.2157 - val_loss: 0.2042\n",
      "Epoch 77/200\n",
      "622/622 [==============================] - 0s 145us/sample - loss: 0.2073 - val_loss: 0.2017\n",
      "Epoch 78/200\n",
      "622/622 [==============================] - 0s 139us/sample - loss: 0.2145 - val_loss: 0.1991\n",
      "Epoch 79/200\n",
      "622/622 [==============================] - 0s 144us/sample - loss: 0.2105 - val_loss: 0.1988\n",
      "Epoch 80/200\n",
      "622/622 [==============================] - 0s 151us/sample - loss: 0.2160 - val_loss: 0.1970\n",
      "Epoch 81/200\n",
      "622/622 [==============================] - 0s 167us/sample - loss: 0.2106 - val_loss: 0.2017\n",
      "Epoch 82/200\n",
      "622/622 [==============================] - 0s 154us/sample - loss: 0.2113 - val_loss: 0.1970\n",
      "Epoch 83/200\n",
      "622/622 [==============================] - 0s 143us/sample - loss: 0.2005 - val_loss: 0.1975\n",
      "Epoch 84/200\n",
      "622/622 [==============================] - 0s 174us/sample - loss: 0.2027 - val_loss: 0.1927\n",
      "Epoch 85/200\n",
      "622/622 [==============================] - 0s 158us/sample - loss: 0.2004 - val_loss: 0.1900\n",
      "Epoch 86/200\n",
      "622/622 [==============================] - 0s 143us/sample - loss: 0.2084 - val_loss: 0.1895\n",
      "Epoch 87/200\n",
      "622/622 [==============================] - 0s 146us/sample - loss: 0.2056 - val_loss: 0.1882\n",
      "Epoch 88/200\n",
      "622/622 [==============================] - 0s 140us/sample - loss: 0.2043 - val_loss: 0.1928\n",
      "Epoch 89/200\n",
      "622/622 [==============================] - 0s 145us/sample - loss: 0.2004 - val_loss: 0.1896\n",
      "Epoch 90/200\n",
      "622/622 [==============================] - 0s 159us/sample - loss: 0.2063 - val_loss: 0.1865\n",
      "Epoch 91/200\n",
      "622/622 [==============================] - 0s 156us/sample - loss: 0.1966 - val_loss: 0.1872\n",
      "Epoch 92/200\n",
      "622/622 [==============================] - 0s 155us/sample - loss: 0.2003 - val_loss: 0.1855\n",
      "Epoch 93/200\n",
      "622/622 [==============================] - 0s 123us/sample - loss: 0.2019 - val_loss: 0.1865\n",
      "Epoch 94/200\n",
      "622/622 [==============================] - 0s 108us/sample - loss: 0.1974 - val_loss: 0.1840\n",
      "Epoch 95/200\n",
      "622/622 [==============================] - 0s 108us/sample - loss: 0.2003 - val_loss: 0.1817\n",
      "Epoch 96/200\n",
      "622/622 [==============================] - 0s 115us/sample - loss: 0.2053 - val_loss: 0.1877\n",
      "Epoch 97/200\n",
      "622/622 [==============================] - 0s 140us/sample - loss: 0.2049 - val_loss: 0.1857\n",
      "Epoch 98/200\n",
      "622/622 [==============================] - 0s 134us/sample - loss: 0.2018 - val_loss: 0.1899\n",
      "Epoch 99/200\n",
      "622/622 [==============================] - 0s 146us/sample - loss: 0.1948 - val_loss: 0.1829\n",
      "Epoch 100/200\n",
      "622/622 [==============================] - 0s 139us/sample - loss: 0.1955 - val_loss: 0.1798\n",
      "Epoch 101/200\n",
      "622/622 [==============================] - 0s 138us/sample - loss: 0.1859 - val_loss: 0.1803\n",
      "Epoch 102/200\n",
      "622/622 [==============================] - 0s 137us/sample - loss: 0.1882 - val_loss: 0.1753\n",
      "Epoch 103/200\n",
      "622/622 [==============================] - 0s 147us/sample - loss: 0.1955 - val_loss: 0.1747\n",
      "Epoch 104/200\n",
      "622/622 [==============================] - 0s 171us/sample - loss: 0.2006 - val_loss: 0.1752\n",
      "Epoch 105/200\n",
      "622/622 [==============================] - 0s 193us/sample - loss: 0.1940 - val_loss: 0.1753\n",
      "Epoch 106/200\n",
      "622/622 [==============================] - 0s 147us/sample - loss: 0.1932 - val_loss: 0.1788\n",
      "Epoch 107/200\n",
      "622/622 [==============================] - 0s 144us/sample - loss: 0.1994 - val_loss: 0.1730\n",
      "Epoch 108/200\n",
      "622/622 [==============================] - 0s 136us/sample - loss: 0.1916 - val_loss: 0.1768\n",
      "Epoch 109/200\n",
      "622/622 [==============================] - 0s 142us/sample - loss: 0.1963 - val_loss: 0.1728\n",
      "Epoch 110/200\n",
      "622/622 [==============================] - 0s 143us/sample - loss: 0.1932 - val_loss: 0.1722\n",
      "Epoch 111/200\n",
      "622/622 [==============================] - 0s 146us/sample - loss: 0.1865 - val_loss: 0.1682\n",
      "Epoch 112/200\n",
      "622/622 [==============================] - 0s 152us/sample - loss: 0.1834 - val_loss: 0.1696\n",
      "Epoch 113/200\n",
      "622/622 [==============================] - 0s 151us/sample - loss: 0.1988 - val_loss: 0.1720\n",
      "Epoch 114/200\n",
      "622/622 [==============================] - 0s 144us/sample - loss: 0.1835 - val_loss: 0.1697\n",
      "Epoch 115/200\n",
      "622/622 [==============================] - 0s 144us/sample - loss: 0.1919 - val_loss: 0.1691\n",
      "Epoch 116/200\n",
      "622/622 [==============================] - 0s 130us/sample - loss: 0.1836 - val_loss: 0.1698\n",
      "Epoch 117/200\n",
      "622/622 [==============================] - 0s 127us/sample - loss: 0.1979 - val_loss: 0.1678\n",
      "Epoch 118/200\n",
      "622/622 [==============================] - 0s 133us/sample - loss: 0.1713 - val_loss: 0.1675\n",
      "Epoch 119/200\n",
      "622/622 [==============================] - 0s 138us/sample - loss: 0.1814 - val_loss: 0.1675\n",
      "Epoch 120/200\n",
      "622/622 [==============================] - 0s 143us/sample - loss: 0.1782 - val_loss: 0.1637\n",
      "Epoch 121/200\n",
      "622/622 [==============================] - 0s 141us/sample - loss: 0.1785 - val_loss: 0.1658\n",
      "Epoch 122/200\n",
      "622/622 [==============================] - 0s 139us/sample - loss: 0.1890 - val_loss: 0.1648\n",
      "Epoch 123/200\n",
      "622/622 [==============================] - 0s 145us/sample - loss: 0.1853 - val_loss: 0.1639\n",
      "Epoch 124/200\n",
      "622/622 [==============================] - 0s 158us/sample - loss: 0.1773 - val_loss: 0.1645\n",
      "Epoch 125/200\n",
      "622/622 [==============================] - 0s 150us/sample - loss: 0.1784 - val_loss: 0.1653\n",
      "Epoch 126/200\n",
      "622/622 [==============================] - 0s 147us/sample - loss: 0.1840 - val_loss: 0.1620\n",
      "Epoch 127/200\n",
      "622/622 [==============================] - 0s 140us/sample - loss: 0.1856 - val_loss: 0.1681\n",
      "Epoch 128/200\n",
      "622/622 [==============================] - 0s 155us/sample - loss: 0.1882 - val_loss: 0.1644\n",
      "Epoch 129/200\n",
      "622/622 [==============================] - 0s 138us/sample - loss: 0.1705 - val_loss: 0.1647\n",
      "Epoch 130/200\n",
      "622/622 [==============================] - 0s 138us/sample - loss: 0.1827 - val_loss: 0.1653\n",
      "Epoch 131/200\n",
      "622/622 [==============================] - 0s 144us/sample - loss: 0.1721 - val_loss: 0.1602\n",
      "Epoch 132/200\n",
      "622/622 [==============================] - 0s 141us/sample - loss: 0.1743 - val_loss: 0.1547\n",
      "Epoch 133/200\n",
      "622/622 [==============================] - 0s 150us/sample - loss: 0.1895 - val_loss: 0.1567\n",
      "Epoch 134/200\n",
      "622/622 [==============================] - 0s 144us/sample - loss: 0.1763 - val_loss: 0.1605\n",
      "Epoch 135/200\n",
      "622/622 [==============================] - 0s 147us/sample - loss: 0.1791 - val_loss: 0.1663\n",
      "Epoch 136/200\n",
      "622/622 [==============================] - 0s 144us/sample - loss: 0.1850 - val_loss: 0.1645\n",
      "Epoch 137/200\n",
      "622/622 [==============================] - 0s 161us/sample - loss: 0.1864 - val_loss: 0.1573\n",
      "Epoch 138/200\n",
      "622/622 [==============================] - 0s 157us/sample - loss: 0.1760 - val_loss: 0.1625\n",
      "Epoch 139/200\n",
      "622/622 [==============================] - 0s 156us/sample - loss: 0.1713 - val_loss: 0.1605\n",
      "Epoch 140/200\n",
      "622/622 [==============================] - 0s 137us/sample - loss: 0.1815 - val_loss: 0.1536\n",
      "Epoch 141/200\n",
      "622/622 [==============================] - 0s 130us/sample - loss: 0.1719 - val_loss: 0.1568\n",
      "Epoch 142/200\n",
      "622/622 [==============================] - 0s 136us/sample - loss: 0.1697 - val_loss: 0.1557\n",
      "Epoch 143/200\n",
      "622/622 [==============================] - 0s 146us/sample - loss: 0.1785 - val_loss: 0.1549\n",
      "Epoch 144/200\n",
      "622/622 [==============================] - 0s 158us/sample - loss: 0.1706 - val_loss: 0.1577\n",
      "Epoch 145/200\n",
      "622/622 [==============================] - 0s 172us/sample - loss: 0.1845 - val_loss: 0.1529\n",
      "Epoch 146/200\n",
      "622/622 [==============================] - 0s 163us/sample - loss: 0.1629 - val_loss: 0.1557\n",
      "Epoch 147/200\n",
      "622/622 [==============================] - 0s 150us/sample - loss: 0.1691 - val_loss: 0.1558\n",
      "Epoch 148/200\n",
      "622/622 [==============================] - 0s 138us/sample - loss: 0.1634 - val_loss: 0.1522\n",
      "Epoch 149/200\n",
      "622/622 [==============================] - 0s 141us/sample - loss: 0.1764 - val_loss: 0.1496\n",
      "Epoch 150/200\n",
      "622/622 [==============================] - 0s 145us/sample - loss: 0.1664 - val_loss: 0.1479\n",
      "Epoch 151/200\n",
      "622/622 [==============================] - 0s 128us/sample - loss: 0.1653 - val_loss: 0.1500\n",
      "Epoch 152/200\n",
      "622/622 [==============================] - 0s 136us/sample - loss: 0.1697 - val_loss: 0.1512\n",
      "Epoch 153/200\n",
      "622/622 [==============================] - 0s 138us/sample - loss: 0.1756 - val_loss: 0.1481\n",
      "Epoch 154/200\n",
      "622/622 [==============================] - 0s 150us/sample - loss: 0.1714 - val_loss: 0.1472\n",
      "Epoch 155/200\n",
      "622/622 [==============================] - 0s 143us/sample - loss: 0.1689 - val_loss: 0.1463\n",
      "Epoch 156/200\n",
      "622/622 [==============================] - 0s 146us/sample - loss: 0.1679 - val_loss: 0.1516\n",
      "Epoch 157/200\n",
      "622/622 [==============================] - 0s 142us/sample - loss: 0.1668 - val_loss: 0.1514\n",
      "Epoch 158/200\n",
      "622/622 [==============================] - 0s 148us/sample - loss: 0.1694 - val_loss: 0.1494\n",
      "Epoch 159/200\n",
      "622/622 [==============================] - 0s 165us/sample - loss: 0.1703 - val_loss: 0.1449\n",
      "Epoch 160/200\n",
      "622/622 [==============================] - 0s 159us/sample - loss: 0.1630 - val_loss: 0.1468\n",
      "Epoch 161/200\n",
      "622/622 [==============================] - 0s 148us/sample - loss: 0.1762 - val_loss: 0.1516\n",
      "Epoch 162/200\n",
      "622/622 [==============================] - 0s 150us/sample - loss: 0.1701 - val_loss: 0.1462\n",
      "Epoch 163/200\n",
      "622/622 [==============================] - 0s 138us/sample - loss: 0.1627 - val_loss: 0.1437\n",
      "Epoch 164/200\n",
      "622/622 [==============================] - 0s 144us/sample - loss: 0.1623 - val_loss: 0.1487\n",
      "Epoch 165/200\n",
      "622/622 [==============================] - 0s 130us/sample - loss: 0.1657 - val_loss: 0.1417\n",
      "Epoch 166/200\n",
      "622/622 [==============================] - 0s 132us/sample - loss: 0.1760 - val_loss: 0.1409\n",
      "Epoch 167/200\n",
      "622/622 [==============================] - 0s 130us/sample - loss: 0.1718 - val_loss: 0.1406\n",
      "Epoch 168/200\n",
      "622/622 [==============================] - 0s 129us/sample - loss: 0.1666 - val_loss: 0.1421\n",
      "Epoch 169/200\n",
      "622/622 [==============================] - 0s 140us/sample - loss: 0.1600 - val_loss: 0.1401\n",
      "Epoch 170/200\n",
      "622/622 [==============================] - 0s 142us/sample - loss: 0.1755 - val_loss: 0.1425\n",
      "Epoch 171/200\n",
      "622/622 [==============================] - 0s 146us/sample - loss: 0.1565 - val_loss: 0.1445\n",
      "Epoch 172/200\n",
      "622/622 [==============================] - 0s 149us/sample - loss: 0.1630 - val_loss: 0.1425\n",
      "Epoch 173/200\n",
      "622/622 [==============================] - 0s 157us/sample - loss: 0.1662 - val_loss: 0.1433\n",
      "Epoch 174/200\n",
      "622/622 [==============================] - 0s 158us/sample - loss: 0.1757 - val_loss: 0.1416\n",
      "Epoch 175/200\n",
      "622/622 [==============================] - 0s 152us/sample - loss: 0.1725 - val_loss: 0.1442\n",
      "Epoch 176/200\n",
      "622/622 [==============================] - 0s 132us/sample - loss: 0.1688 - val_loss: 0.1397\n",
      "Epoch 177/200\n",
      "622/622 [==============================] - 0s 130us/sample - loss: 0.1569 - val_loss: 0.1397\n",
      "Epoch 178/200\n",
      "622/622 [==============================] - 0s 217us/sample - loss: 0.1552 - val_loss: 0.1399\n",
      "Epoch 179/200\n",
      "622/622 [==============================] - 0s 137us/sample - loss: 0.1590 - val_loss: 0.1419\n",
      "Epoch 180/200\n",
      "622/622 [==============================] - 0s 136us/sample - loss: 0.1609 - val_loss: 0.1391\n",
      "Epoch 181/200\n",
      "622/622 [==============================] - 0s 146us/sample - loss: 0.1533 - val_loss: 0.1391\n",
      "Epoch 182/200\n",
      "622/622 [==============================] - 0s 144us/sample - loss: 0.1712 - val_loss: 0.1433\n",
      "Epoch 183/200\n",
      "622/622 [==============================] - 0s 161us/sample - loss: 0.1582 - val_loss: 0.1398\n",
      "Epoch 184/200\n",
      "622/622 [==============================] - 0s 150us/sample - loss: 0.1569 - val_loss: 0.1401\n",
      "Epoch 185/200\n",
      "622/622 [==============================] - 0s 129us/sample - loss: 0.1583 - val_loss: 0.1409\n",
      "Epoch 186/200\n",
      "622/622 [==============================] - 0s 139us/sample - loss: 0.1559 - val_loss: 0.1419\n",
      "Epoch 187/200\n",
      "622/622 [==============================] - 0s 141us/sample - loss: 0.1554 - val_loss: 0.1399\n",
      "Epoch 188/200\n",
      "622/622 [==============================] - 0s 142us/sample - loss: 0.1696 - val_loss: 0.1405\n",
      "Epoch 189/200\n",
      "622/622 [==============================] - 0s 134us/sample - loss: 0.1638 - val_loss: 0.1418\n",
      "Epoch 190/200\n",
      "622/622 [==============================] - 0s 149us/sample - loss: 0.1552 - val_loss: 0.1399\n",
      "Epoch 191/200\n",
      "622/622 [==============================] - 0s 141us/sample - loss: 0.1636 - val_loss: 0.1384\n",
      "Epoch 192/200\n",
      "622/622 [==============================] - 0s 148us/sample - loss: 0.1608 - val_loss: 0.1391\n",
      "Epoch 193/200\n",
      "622/622 [==============================] - 0s 136us/sample - loss: 0.1579 - val_loss: 0.1386\n",
      "Epoch 194/200\n",
      "622/622 [==============================] - 0s 136us/sample - loss: 0.1589 - val_loss: 0.1384\n",
      "Epoch 195/200\n",
      "622/622 [==============================] - 0s 182us/sample - loss: 0.1660 - val_loss: 0.1369\n",
      "Epoch 196/200\n",
      "622/622 [==============================] - 0s 145us/sample - loss: 0.1566 - val_loss: 0.1382\n",
      "Epoch 197/200\n",
      "622/622 [==============================] - 0s 143us/sample - loss: 0.1537 - val_loss: 0.1380\n",
      "Epoch 198/200\n",
      "622/622 [==============================] - 0s 138us/sample - loss: 0.1679 - val_loss: 0.1389\n",
      "Epoch 199/200\n",
      "622/622 [==============================] - 0s 133us/sample - loss: 0.1529 - val_loss: 0.1352\n",
      "Epoch 200/200\n",
      "622/622 [==============================] - 0s 149us/sample - loss: 0.1581 - val_loss: 0.1367\n"
     ]
    },
    {
     "data": {
      "text/plain": [
       "<tensorflow.python.keras.callbacks.History at 0x7fc2eeb1fef0>"
      ]
     },
     "execution_count": 63,
     "metadata": {},
     "output_type": "execute_result"
    }
   ],
   "source": [
    "model.fit(X_train,y_train,epochs=200,validation_data=(X_test,y_test),batch_size=20,callbacks=[Early_stop],verbose=1)"
   ]
  },
  {
   "cell_type": "code",
   "execution_count": null,
   "metadata": {},
   "outputs": [],
   "source": [
    "#model.fit(X_train,y_train,epochs=200,validation_data=(X_test,y_test),batch_size=20,callbacks=[Early_stop])\n",
    "model.fit(x=df.drop(['PassengerId','Survived'],axis=1).values,\n",
    "y=df['Survived'].values,epochs=200,batch_size=20,callbacks=[Early_stop])"
   ]
  },
  {
   "cell_type": "code",
   "execution_count": 64,
   "metadata": {},
   "outputs": [],
   "source": [
    "model_loss = pd.DataFrame(model.history.history)"
   ]
  },
  {
   "cell_type": "code",
   "execution_count": 65,
   "metadata": {},
   "outputs": [
    {
     "data": {
      "text/plain": [
       "<matplotlib.axes._subplots.AxesSubplot at 0x7fc2eca594a8>"
      ]
     },
     "execution_count": 65,
     "metadata": {},
     "output_type": "execute_result"
    },
    {
     "data": {
      "image/png": "[encoded data removed]",
      "text/plain": [
       "<Figure size 432x288 with 1 Axes>"
      ]
     },
     "metadata": {
      "needs_background": "light"
     },
     "output_type": "display_data"
    }
   ],
   "source": [
    "model_loss.plot()"
   ]
  },
  {
   "cell_type": "code",
   "execution_count": 66,
   "metadata": {},
   "outputs": [
    {
     "name": "stdout",
     "output_type": "stream",
     "text": [
      "              precision    recall  f1-score   support\n",
      "\n",
      "           0       0.82      0.92      0.87       163\n",
      "           1       0.85      0.69      0.76       104\n",
      "\n",
      "    accuracy                           0.83       267\n",
      "   macro avg       0.84      0.81      0.82       267\n",
      "weighted avg       0.83      0.83      0.83       267\n",
      "\n"
     ]
    }
   ],
   "source": [
    "predictions=model.predict_classes(X_test)\n",
    "print (classification_report(y_test,predictions))"
   ]
  },
  {
   "cell_type": "code",
   "execution_count": 262,
   "metadata": {},
   "outputs": [],
   "source": [
    "results=model.predict_classes(df2.drop('PassengerId',axis=1).values)\n",
    "results=pd.DataFrame(results)\n",
    "results.columns=['Survived']"
   ]
  },
  {
   "cell_type": "code",
   "execution_count": 263,
   "metadata": {},
   "outputs": [],
   "source": [
    "survived=pd.concat([df2,results],axis=1)"
   ]
  },
  {
   "cell_type": "code",
   "execution_count": 264,
   "metadata": {},
   "outputs": [],
   "source": [
    "survived[['PassengerId','Survived']].to_csv(\"result6.csv\",index=None)"
   ]
  },
  {
   "cell_type": "code",
   "execution_count": 265,
   "metadata": {},
   "outputs": [
    {
     "data": {
      "text/plain": [
       "<matplotlib.axes._subplots.AxesSubplot at 0x7fdf7e3b0748>"
      ]
     },
     "execution_count": 265,
     "metadata": {},
     "output_type": "execute_result"
    },
    {
     "data": {
      "image/png": "[encoded data removed]",
      "text/plain": [
       "<Figure size 432x288 with 1 Axes>"
      ]
     },
     "metadata": {
      "needs_background": "light"
     },
     "output_type": "display_data"
    }
   ],
   "source": [
    "sns.countplot(survived['Survived'])"
   ]
  },
  {
   "cell_type": "code",
   "execution_count": 259,
   "metadata": {},
   "outputs": [
    {
     "data": {
      "text/plain": [
       "Index(['PassengerId', 'Survived', 'Pclass', 'SibSp', 'Parch', 'Fare',\n",
       "       'Sex_male', 'Embarked_Q', 'Embarked_S', 'fName_Mr', 'fName_Mrs',\n",
       "       'range_20-30', 'range_30-40', 'range_40-50', 'range_50-60',\n",
       "       'range_60-70', 'range_70-80', 'range_<10', 'range_Null'],\n",
       "      dtype='object')"
      ]
     },
     "execution_count": 259,
     "metadata": {},
     "output_type": "execute_result"
    }
   ],
   "source": [
    "df.columns"
   ]
  },
  {
   "cell_type": "code",
   "execution_count": 261,
   "metadata": {},
   "outputs": [
    {
     "data": {
      "text/plain": [
       "Index(['PassengerId', 'Pclass', 'SibSp', 'Parch', 'Fare', 'Sex_male',\n",
       "       'Embarked_Q', 'Embarked_S', 'fName_Mr', 'fName_Mrs', 'range_20-30',\n",
       "       'range_30-40', 'range_40-50', 'range_50-60', 'range_60-70',\n",
       "       'range_70-80', 'range_<10', 'range_Null'],\n",
       "      dtype='object')"
      ]
     },
     "execution_count": 261,
     "metadata": {},
     "output_type": "execute_result"
    }
   ],
   "source": [
    "df2 = df2[['PassengerId', 'Pclass', 'SibSp', 'Parch', 'Fare',\n",
    "       'Sex_male', 'Embarked_Q', 'Embarked_S', 'fName_Mr', 'fName_Mrs',\n",
    "       'range_20-30', 'range_30-40', 'range_40-50', 'range_50-60',\n",
    "       'range_60-70', 'range_70-80', 'range_<10', 'range_Null']]\n",
    "df2.columns"
   ]
  },
  {
   "cell_type": "code",
   "execution_count": 260,
   "metadata": {},
   "outputs": [
    {
     "data": {
      "text/plain": [
       "Index(['PassengerId', 'Pclass', 'SibSp', 'Parch', 'Fare', 'Sex_male',\n",
       "       'Embarked_Q', 'Embarked_S', 'fName_Mr', 'fName_Mrs', 'range_20-30',\n",
       "       'range_30-40', 'range_40-50', 'range_50-60', 'range_60-70',\n",
       "       'range_70-80', 'range_<10', 'range_Null'],\n",
       "      dtype='object')"
      ]
     },
     "execution_count": 260,
     "metadata": {},
     "output_type": "execute_result"
    }
   ],
   "source": [
    "df2.columns"
   ]
  },
  {
   "cell_type": "code",
   "execution_count": null,
   "metadata": {},
   "outputs": [],
   "source": []
  }
 ],
 "metadata": {
  "kernelspec": {
   "display_name": "Python 3",
   "language": "python",
   "name": "python3"
  },
  "language_info": {
   "codemirror_mode": {
    "name": "ipython",
    "version": 3
   },
   "file_extension": ".py",
   "mimetype": "text/x-python",
   "name": "python",
   "nbconvert_exporter": "python",
   "pygments_lexer": "ipython3",
   "version": "3.7.3"
  }
 },
 "nbformat": 4,
 "nbformat_minor": 4
}
