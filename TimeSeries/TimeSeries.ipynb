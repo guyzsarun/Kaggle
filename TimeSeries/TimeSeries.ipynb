{
 "cells": [
  {
   "cell_type": "code",
   "execution_count": 133,
   "metadata": {},
   "outputs": [],
   "source": [
    "import numpy as np\n",
    "import pandas as pd\n",
    "import matplotlib.pyplot as plt\n",
    "import seaborn as sns\n",
    "import statsmodels.tsa.stattools as sts\n",
    "from statsmodels.graphics.tsaplots import plot_acf,plot_pacf"
   ]
  },
  {
   "cell_type": "code",
   "execution_count": 64,
   "metadata": {},
   "outputs": [],
   "source": [
    "df=pd.read_csv(\"Index2018.csv\")"
   ]
  },
  {
   "cell_type": "code",
   "execution_count": 65,
   "metadata": {},
   "outputs": [
    {
     "data": {
      "text/html": [
       "<div>\n",
       "<style scoped>\n",
       "    .dataframe tbody tr th:only-of-type {\n",
       "        vertical-align: middle;\n",
       "    }\n",
       "\n",
       "    .dataframe tbody tr th {\n",
       "        vertical-align: top;\n",
       "    }\n",
       "\n",
       "    .dataframe thead th {\n",
       "        text-align: right;\n",
       "    }\n",
       "</style>\n",
       "<table border=\"1\" class=\"dataframe\">\n",
       "  <thead>\n",
       "    <tr style=\"text-align: right;\">\n",
       "      <th></th>\n",
       "      <th>date</th>\n",
       "      <th>spx</th>\n",
       "      <th>dax</th>\n",
       "      <th>ftse</th>\n",
       "      <th>nikkei</th>\n",
       "    </tr>\n",
       "  </thead>\n",
       "  <tbody>\n",
       "    <tr>\n",
       "      <th>0</th>\n",
       "      <td>07/01/1994</td>\n",
       "      <td>469.90</td>\n",
       "      <td>2224.95</td>\n",
       "      <td>3445.98</td>\n",
       "      <td>18124.01</td>\n",
       "    </tr>\n",
       "    <tr>\n",
       "      <th>1</th>\n",
       "      <td>10/01/1994</td>\n",
       "      <td>475.27</td>\n",
       "      <td>2225.00</td>\n",
       "      <td>3440.58</td>\n",
       "      <td>18443.44</td>\n",
       "    </tr>\n",
       "    <tr>\n",
       "      <th>2</th>\n",
       "      <td>11/01/1994</td>\n",
       "      <td>474.13</td>\n",
       "      <td>2228.10</td>\n",
       "      <td>3413.77</td>\n",
       "      <td>18485.25</td>\n",
       "    </tr>\n",
       "    <tr>\n",
       "      <th>3</th>\n",
       "      <td>12/01/1994</td>\n",
       "      <td>474.17</td>\n",
       "      <td>2182.06</td>\n",
       "      <td>3372.02</td>\n",
       "      <td>18793.88</td>\n",
       "    </tr>\n",
       "    <tr>\n",
       "      <th>4</th>\n",
       "      <td>13/01/1994</td>\n",
       "      <td>472.47</td>\n",
       "      <td>2142.37</td>\n",
       "      <td>3360.01</td>\n",
       "      <td>18577.26</td>\n",
       "    </tr>\n",
       "    <tr>\n",
       "      <th>5</th>\n",
       "      <td>14/01/1994</td>\n",
       "      <td>474.91</td>\n",
       "      <td>2151.05</td>\n",
       "      <td>3400.56</td>\n",
       "      <td>18973.70</td>\n",
       "    </tr>\n",
       "    <tr>\n",
       "      <th>6</th>\n",
       "      <td>17/01/1994</td>\n",
       "      <td>473.30</td>\n",
       "      <td>2115.56</td>\n",
       "      <td>3407.83</td>\n",
       "      <td>18725.37</td>\n",
       "    </tr>\n",
       "    <tr>\n",
       "      <th>7</th>\n",
       "      <td>18/01/1994</td>\n",
       "      <td>474.25</td>\n",
       "      <td>2130.35</td>\n",
       "      <td>3437.01</td>\n",
       "      <td>18514.55</td>\n",
       "    </tr>\n",
       "    <tr>\n",
       "      <th>8</th>\n",
       "      <td>19/01/1994</td>\n",
       "      <td>474.30</td>\n",
       "      <td>2132.52</td>\n",
       "      <td>3475.15</td>\n",
       "      <td>19039.40</td>\n",
       "    </tr>\n",
       "    <tr>\n",
       "      <th>9</th>\n",
       "      <td>20/01/1994</td>\n",
       "      <td>474.98</td>\n",
       "      <td>2098.36</td>\n",
       "      <td>3469.99</td>\n",
       "      <td>19183.92</td>\n",
       "    </tr>\n",
       "  </tbody>\n",
       "</table>\n",
       "</div>"
      ],
      "text/plain": [
       "         date     spx      dax     ftse    nikkei\n",
       "0  07/01/1994  469.90  2224.95  3445.98  18124.01\n",
       "1  10/01/1994  475.27  2225.00  3440.58  18443.44\n",
       "2  11/01/1994  474.13  2228.10  3413.77  18485.25\n",
       "3  12/01/1994  474.17  2182.06  3372.02  18793.88\n",
       "4  13/01/1994  472.47  2142.37  3360.01  18577.26\n",
       "5  14/01/1994  474.91  2151.05  3400.56  18973.70\n",
       "6  17/01/1994  473.30  2115.56  3407.83  18725.37\n",
       "7  18/01/1994  474.25  2130.35  3437.01  18514.55\n",
       "8  19/01/1994  474.30  2132.52  3475.15  19039.40\n",
       "9  20/01/1994  474.98  2098.36  3469.99  19183.92"
      ]
     },
     "execution_count": 65,
     "metadata": {},
     "output_type": "execute_result"
    }
   ],
   "source": [
    "df.head(10)"
   ]
  },
  {
   "cell_type": "code",
   "execution_count": 66,
   "metadata": {},
   "outputs": [],
   "source": [
    "df['date']=pd.to_datetime(df['date'],dayfirst=True)"
   ]
  },
  {
   "cell_type": "code",
   "execution_count": 67,
   "metadata": {},
   "outputs": [
    {
     "data": {
      "text/html": [
       "<div>\n",
       "<style scoped>\n",
       "    .dataframe tbody tr th:only-of-type {\n",
       "        vertical-align: middle;\n",
       "    }\n",
       "\n",
       "    .dataframe tbody tr th {\n",
       "        vertical-align: top;\n",
       "    }\n",
       "\n",
       "    .dataframe thead th {\n",
       "        text-align: right;\n",
       "    }\n",
       "</style>\n",
       "<table border=\"1\" class=\"dataframe\">\n",
       "  <thead>\n",
       "    <tr style=\"text-align: right;\">\n",
       "      <th></th>\n",
       "      <th>spx</th>\n",
       "      <th>dax</th>\n",
       "      <th>ftse</th>\n",
       "      <th>nikkei</th>\n",
       "    </tr>\n",
       "  </thead>\n",
       "  <tbody>\n",
       "    <tr>\n",
       "      <th>count</th>\n",
       "      <td>6269.000000</td>\n",
       "      <td>6269.000000</td>\n",
       "      <td>6269.000000</td>\n",
       "      <td>6269.000000</td>\n",
       "    </tr>\n",
       "    <tr>\n",
       "      <th>mean</th>\n",
       "      <td>1288.127542</td>\n",
       "      <td>6080.063363</td>\n",
       "      <td>5422.713545</td>\n",
       "      <td>14597.055700</td>\n",
       "    </tr>\n",
       "    <tr>\n",
       "      <th>std</th>\n",
       "      <td>487.586473</td>\n",
       "      <td>2754.361032</td>\n",
       "      <td>1145.572428</td>\n",
       "      <td>4043.122953</td>\n",
       "    </tr>\n",
       "    <tr>\n",
       "      <th>min</th>\n",
       "      <td>438.920000</td>\n",
       "      <td>1911.700000</td>\n",
       "      <td>2876.600000</td>\n",
       "      <td>7054.980000</td>\n",
       "    </tr>\n",
       "    <tr>\n",
       "      <th>25%</th>\n",
       "      <td>990.671905</td>\n",
       "      <td>4069.350000</td>\n",
       "      <td>4486.100000</td>\n",
       "      <td>10709.290000</td>\n",
       "    </tr>\n",
       "    <tr>\n",
       "      <th>50%</th>\n",
       "      <td>1233.420000</td>\n",
       "      <td>5773.340000</td>\n",
       "      <td>5662.430000</td>\n",
       "      <td>15028.170000</td>\n",
       "    </tr>\n",
       "    <tr>\n",
       "      <th>75%</th>\n",
       "      <td>1459.987747</td>\n",
       "      <td>7443.070000</td>\n",
       "      <td>6304.250000</td>\n",
       "      <td>17860.470000</td>\n",
       "    </tr>\n",
       "    <tr>\n",
       "      <th>max</th>\n",
       "      <td>2872.867839</td>\n",
       "      <td>13559.600000</td>\n",
       "      <td>7778.637689</td>\n",
       "      <td>24124.150000</td>\n",
       "    </tr>\n",
       "  </tbody>\n",
       "</table>\n",
       "</div>"
      ],
      "text/plain": [
       "               spx           dax         ftse        nikkei\n",
       "count  6269.000000   6269.000000  6269.000000   6269.000000\n",
       "mean   1288.127542   6080.063363  5422.713545  14597.055700\n",
       "std     487.586473   2754.361032  1145.572428   4043.122953\n",
       "min     438.920000   1911.700000  2876.600000   7054.980000\n",
       "25%     990.671905   4069.350000  4486.100000  10709.290000\n",
       "50%    1233.420000   5773.340000  5662.430000  15028.170000\n",
       "75%    1459.987747   7443.070000  6304.250000  17860.470000\n",
       "max    2872.867839  13559.600000  7778.637689  24124.150000"
      ]
     },
     "execution_count": 67,
     "metadata": {},
     "output_type": "execute_result"
    }
   ],
   "source": [
    "df.describe()"
   ]
  },
  {
   "cell_type": "code",
   "execution_count": 68,
   "metadata": {},
   "outputs": [
    {
     "data": {
      "text/plain": [
       "0"
      ]
     },
     "execution_count": 68,
     "metadata": {},
     "output_type": "execute_result"
    }
   ],
   "source": [
    "df['spx'].isnull().sum()"
   ]
  },
  {
   "cell_type": "code",
   "execution_count": 69,
   "metadata": {},
   "outputs": [
    {
     "data": {
      "text/plain": [
       "<matplotlib.axes._subplots.AxesSubplot at 0x7ff9fb9b0828>"
      ]
     },
     "execution_count": 69,
     "metadata": {},
     "output_type": "execute_result"
    },
    {
     "data": {
      "image/png": "[encoded data removed]",
      "text/plain": [
       "<Figure size 864x432 with 1 Axes>"
      ]
     },
     "metadata": {
      "needs_background": "light"
     },
     "output_type": "display_data"
    }
   ],
   "source": [
    "df['spx'].plot(figsize=(12,6),title='S&P 500')\n",
    "df['ftse'].plot(figsize=(12,6),title='ftse')"
   ]
  },
  {
   "cell_type": "code",
   "execution_count": 44,
   "metadata": {},
   "outputs": [],
   "source": [
    "import scipy\n",
    "import pylab"
   ]
  },
  {
   "cell_type": "code",
   "execution_count": 45,
   "metadata": {},
   "outputs": [
    {
     "data": {
      "image/png": "[encoded data removed]",
      "text/plain": [
       "<Figure size 432x288 with 1 Axes>"
      ]
     },
     "metadata": {
      "needs_background": "light"
     },
     "output_type": "display_data"
    }
   ],
   "source": [
    "scipy.stats.probplot(df['spx'],plot=pylab)\n",
    "pylab.show()"
   ]
  },
  {
   "cell_type": "code",
   "execution_count": 46,
   "metadata": {},
   "outputs": [],
   "source": [
    "u=pd.DataFrame(np.random.randn(1000))"
   ]
  },
  {
   "cell_type": "code",
   "execution_count": 47,
   "metadata": {},
   "outputs": [
    {
     "data": {
      "image/png": "[encoded data removed]",
      "text/plain": [
       "<Figure size 432x288 with 1 Axes>"
      ]
     },
     "metadata": {
      "needs_background": "light"
     },
     "output_type": "display_data"
    }
   ],
   "source": [
    "scipy.stats.probplot(u[0],plot=pylab);"
   ]
  },
  {
   "cell_type": "code",
   "execution_count": 73,
   "metadata": {},
   "outputs": [],
   "source": [
    "df=df.set_index('date')"
   ]
  },
  {
   "cell_type": "code",
   "execution_count": 74,
   "metadata": {},
   "outputs": [],
   "source": [
    "df_day=df.asfreq('b')"
   ]
  },
  {
   "cell_type": "code",
   "execution_count": 75,
   "metadata": {},
   "outputs": [
    {
     "data": {
      "text/html": [
       "<div>\n",
       "<style scoped>\n",
       "    .dataframe tbody tr th:only-of-type {\n",
       "        vertical-align: middle;\n",
       "    }\n",
       "\n",
       "    .dataframe tbody tr th {\n",
       "        vertical-align: top;\n",
       "    }\n",
       "\n",
       "    .dataframe thead th {\n",
       "        text-align: right;\n",
       "    }\n",
       "</style>\n",
       "<table border=\"1\" class=\"dataframe\">\n",
       "  <thead>\n",
       "    <tr style=\"text-align: right;\">\n",
       "      <th></th>\n",
       "      <th>spx</th>\n",
       "      <th>dax</th>\n",
       "      <th>ftse</th>\n",
       "      <th>nikkei</th>\n",
       "    </tr>\n",
       "    <tr>\n",
       "      <th>date</th>\n",
       "      <th></th>\n",
       "      <th></th>\n",
       "      <th></th>\n",
       "      <th></th>\n",
       "    </tr>\n",
       "  </thead>\n",
       "  <tbody>\n",
       "    <tr>\n",
       "      <th>1994-01-07</th>\n",
       "      <td>469.900000</td>\n",
       "      <td>2224.95</td>\n",
       "      <td>3445.980000</td>\n",
       "      <td>18124.01</td>\n",
       "    </tr>\n",
       "    <tr>\n",
       "      <th>1994-01-10</th>\n",
       "      <td>475.270000</td>\n",
       "      <td>2225.00</td>\n",
       "      <td>3440.580000</td>\n",
       "      <td>18443.44</td>\n",
       "    </tr>\n",
       "    <tr>\n",
       "      <th>1994-01-11</th>\n",
       "      <td>474.130000</td>\n",
       "      <td>2228.10</td>\n",
       "      <td>3413.770000</td>\n",
       "      <td>18485.25</td>\n",
       "    </tr>\n",
       "    <tr>\n",
       "      <th>1994-01-12</th>\n",
       "      <td>474.170000</td>\n",
       "      <td>2182.06</td>\n",
       "      <td>3372.020000</td>\n",
       "      <td>18793.88</td>\n",
       "    </tr>\n",
       "    <tr>\n",
       "      <th>1994-01-13</th>\n",
       "      <td>472.470000</td>\n",
       "      <td>2142.37</td>\n",
       "      <td>3360.010000</td>\n",
       "      <td>18577.26</td>\n",
       "    </tr>\n",
       "    <tr>\n",
       "      <th>...</th>\n",
       "      <td>...</td>\n",
       "      <td>...</td>\n",
       "      <td>...</td>\n",
       "      <td>...</td>\n",
       "    </tr>\n",
       "    <tr>\n",
       "      <th>2018-01-23</th>\n",
       "      <td>2839.130362</td>\n",
       "      <td>13559.60</td>\n",
       "      <td>7731.827774</td>\n",
       "      <td>24124.15</td>\n",
       "    </tr>\n",
       "    <tr>\n",
       "      <th>2018-01-24</th>\n",
       "      <td>2837.544008</td>\n",
       "      <td>13414.74</td>\n",
       "      <td>7643.428966</td>\n",
       "      <td>23940.78</td>\n",
       "    </tr>\n",
       "    <tr>\n",
       "      <th>2018-01-25</th>\n",
       "      <td>2839.253031</td>\n",
       "      <td>13298.36</td>\n",
       "      <td>7615.839954</td>\n",
       "      <td>23669.49</td>\n",
       "    </tr>\n",
       "    <tr>\n",
       "      <th>2018-01-26</th>\n",
       "      <td>2872.867839</td>\n",
       "      <td>13340.17</td>\n",
       "      <td>7665.541292</td>\n",
       "      <td>23631.88</td>\n",
       "    </tr>\n",
       "    <tr>\n",
       "      <th>2018-01-29</th>\n",
       "      <td>2853.528411</td>\n",
       "      <td>13324.48</td>\n",
       "      <td>7671.533300</td>\n",
       "      <td>23629.34</td>\n",
       "    </tr>\n",
       "  </tbody>\n",
       "</table>\n",
       "<p>6277 rows × 4 columns</p>\n",
       "</div>"
      ],
      "text/plain": [
       "                    spx       dax         ftse    nikkei\n",
       "date                                                    \n",
       "1994-01-07   469.900000   2224.95  3445.980000  18124.01\n",
       "1994-01-10   475.270000   2225.00  3440.580000  18443.44\n",
       "1994-01-11   474.130000   2228.10  3413.770000  18485.25\n",
       "1994-01-12   474.170000   2182.06  3372.020000  18793.88\n",
       "1994-01-13   472.470000   2142.37  3360.010000  18577.26\n",
       "...                 ...       ...          ...       ...\n",
       "2018-01-23  2839.130362  13559.60  7731.827774  24124.15\n",
       "2018-01-24  2837.544008  13414.74  7643.428966  23940.78\n",
       "2018-01-25  2839.253031  13298.36  7615.839954  23669.49\n",
       "2018-01-26  2872.867839  13340.17  7665.541292  23631.88\n",
       "2018-01-29  2853.528411  13324.48  7671.533300  23629.34\n",
       "\n",
       "[6277 rows x 4 columns]"
      ]
     },
     "execution_count": 75,
     "metadata": {},
     "output_type": "execute_result"
    }
   ],
   "source": [
    "df_day"
   ]
  },
  {
   "cell_type": "code",
   "execution_count": 76,
   "metadata": {},
   "outputs": [
    {
     "data": {
      "text/plain": [
       "spx       8\n",
       "dax       8\n",
       "ftse      8\n",
       "nikkei    8\n",
       "dtype: int64"
      ]
     },
     "execution_count": 76,
     "metadata": {},
     "output_type": "execute_result"
    }
   ],
   "source": [
    "df_day.isnull().sum()"
   ]
  },
  {
   "cell_type": "code",
   "execution_count": 77,
   "metadata": {},
   "outputs": [
    {
     "data": {
      "text/html": [
       "<div>\n",
       "<style scoped>\n",
       "    .dataframe tbody tr th:only-of-type {\n",
       "        vertical-align: middle;\n",
       "    }\n",
       "\n",
       "    .dataframe tbody tr th {\n",
       "        vertical-align: top;\n",
       "    }\n",
       "\n",
       "    .dataframe thead th {\n",
       "        text-align: right;\n",
       "    }\n",
       "</style>\n",
       "<table border=\"1\" class=\"dataframe\">\n",
       "  <thead>\n",
       "    <tr style=\"text-align: right;\">\n",
       "      <th></th>\n",
       "      <th>spx</th>\n",
       "      <th>dax</th>\n",
       "      <th>ftse</th>\n",
       "      <th>nikkei</th>\n",
       "    </tr>\n",
       "    <tr>\n",
       "      <th>date</th>\n",
       "      <th></th>\n",
       "      <th></th>\n",
       "      <th></th>\n",
       "      <th></th>\n",
       "    </tr>\n",
       "  </thead>\n",
       "  <tbody>\n",
       "    <tr>\n",
       "      <th>2008-01-01</th>\n",
       "      <td>NaN</td>\n",
       "      <td>NaN</td>\n",
       "      <td>NaN</td>\n",
       "      <td>NaN</td>\n",
       "    </tr>\n",
       "    <tr>\n",
       "      <th>2009-01-01</th>\n",
       "      <td>NaN</td>\n",
       "      <td>NaN</td>\n",
       "      <td>NaN</td>\n",
       "      <td>NaN</td>\n",
       "    </tr>\n",
       "    <tr>\n",
       "      <th>2010-01-01</th>\n",
       "      <td>NaN</td>\n",
       "      <td>NaN</td>\n",
       "      <td>NaN</td>\n",
       "      <td>NaN</td>\n",
       "    </tr>\n",
       "    <tr>\n",
       "      <th>2013-01-01</th>\n",
       "      <td>NaN</td>\n",
       "      <td>NaN</td>\n",
       "      <td>NaN</td>\n",
       "      <td>NaN</td>\n",
       "    </tr>\n",
       "    <tr>\n",
       "      <th>2014-01-01</th>\n",
       "      <td>NaN</td>\n",
       "      <td>NaN</td>\n",
       "      <td>NaN</td>\n",
       "      <td>NaN</td>\n",
       "    </tr>\n",
       "    <tr>\n",
       "      <th>2015-01-01</th>\n",
       "      <td>NaN</td>\n",
       "      <td>NaN</td>\n",
       "      <td>NaN</td>\n",
       "      <td>NaN</td>\n",
       "    </tr>\n",
       "    <tr>\n",
       "      <th>2016-01-01</th>\n",
       "      <td>NaN</td>\n",
       "      <td>NaN</td>\n",
       "      <td>NaN</td>\n",
       "      <td>NaN</td>\n",
       "    </tr>\n",
       "    <tr>\n",
       "      <th>2018-01-01</th>\n",
       "      <td>NaN</td>\n",
       "      <td>NaN</td>\n",
       "      <td>NaN</td>\n",
       "      <td>NaN</td>\n",
       "    </tr>\n",
       "  </tbody>\n",
       "</table>\n",
       "</div>"
      ],
      "text/plain": [
       "            spx  dax  ftse  nikkei\n",
       "date                              \n",
       "2008-01-01  NaN  NaN   NaN     NaN\n",
       "2009-01-01  NaN  NaN   NaN     NaN\n",
       "2010-01-01  NaN  NaN   NaN     NaN\n",
       "2013-01-01  NaN  NaN   NaN     NaN\n",
       "2014-01-01  NaN  NaN   NaN     NaN\n",
       "2015-01-01  NaN  NaN   NaN     NaN\n",
       "2016-01-01  NaN  NaN   NaN     NaN\n",
       "2018-01-01  NaN  NaN   NaN     NaN"
      ]
     },
     "execution_count": 77,
     "metadata": {},
     "output_type": "execute_result"
    }
   ],
   "source": [
    "df_day[df_day['spx'].isnull()==True]"
   ]
  },
  {
   "cell_type": "code",
   "execution_count": 78,
   "metadata": {},
   "outputs": [],
   "source": [
    "df_day=df_day.interpolate()"
   ]
  },
  {
   "cell_type": "code",
   "execution_count": 79,
   "metadata": {},
   "outputs": [],
   "source": [
    "df_day.drop(['dax','ftse','nikkei'],axis=1,inplace=True)"
   ]
  },
  {
   "cell_type": "code",
   "execution_count": 80,
   "metadata": {},
   "outputs": [
    {
     "data": {
      "text/html": [
       "<div>\n",
       "<style scoped>\n",
       "    .dataframe tbody tr th:only-of-type {\n",
       "        vertical-align: middle;\n",
       "    }\n",
       "\n",
       "    .dataframe tbody tr th {\n",
       "        vertical-align: top;\n",
       "    }\n",
       "\n",
       "    .dataframe thead th {\n",
       "        text-align: right;\n",
       "    }\n",
       "</style>\n",
       "<table border=\"1\" class=\"dataframe\">\n",
       "  <thead>\n",
       "    <tr style=\"text-align: right;\">\n",
       "      <th></th>\n",
       "      <th>spx</th>\n",
       "    </tr>\n",
       "    <tr>\n",
       "      <th>date</th>\n",
       "      <th></th>\n",
       "    </tr>\n",
       "  </thead>\n",
       "  <tbody>\n",
       "    <tr>\n",
       "      <th>1994-01-07</th>\n",
       "      <td>469.900000</td>\n",
       "    </tr>\n",
       "    <tr>\n",
       "      <th>1994-01-10</th>\n",
       "      <td>475.270000</td>\n",
       "    </tr>\n",
       "    <tr>\n",
       "      <th>1994-01-11</th>\n",
       "      <td>474.130000</td>\n",
       "    </tr>\n",
       "    <tr>\n",
       "      <th>1994-01-12</th>\n",
       "      <td>474.170000</td>\n",
       "    </tr>\n",
       "    <tr>\n",
       "      <th>1994-01-13</th>\n",
       "      <td>472.470000</td>\n",
       "    </tr>\n",
       "    <tr>\n",
       "      <th>...</th>\n",
       "      <td>...</td>\n",
       "    </tr>\n",
       "    <tr>\n",
       "      <th>2018-01-23</th>\n",
       "      <td>2839.130362</td>\n",
       "    </tr>\n",
       "    <tr>\n",
       "      <th>2018-01-24</th>\n",
       "      <td>2837.544008</td>\n",
       "    </tr>\n",
       "    <tr>\n",
       "      <th>2018-01-25</th>\n",
       "      <td>2839.253031</td>\n",
       "    </tr>\n",
       "    <tr>\n",
       "      <th>2018-01-26</th>\n",
       "      <td>2872.867839</td>\n",
       "    </tr>\n",
       "    <tr>\n",
       "      <th>2018-01-29</th>\n",
       "      <td>2853.528411</td>\n",
       "    </tr>\n",
       "  </tbody>\n",
       "</table>\n",
       "<p>6277 rows × 1 columns</p>\n",
       "</div>"
      ],
      "text/plain": [
       "                    spx\n",
       "date                   \n",
       "1994-01-07   469.900000\n",
       "1994-01-10   475.270000\n",
       "1994-01-11   474.130000\n",
       "1994-01-12   474.170000\n",
       "1994-01-13   472.470000\n",
       "...                 ...\n",
       "2018-01-23  2839.130362\n",
       "2018-01-24  2837.544008\n",
       "2018-01-25  2839.253031\n",
       "2018-01-26  2872.867839\n",
       "2018-01-29  2853.528411\n",
       "\n",
       "[6277 rows x 1 columns]"
      ]
     },
     "execution_count": 80,
     "metadata": {},
     "output_type": "execute_result"
    }
   ],
   "source": [
    "df_day"
   ]
  },
  {
   "cell_type": "code",
   "execution_count": 81,
   "metadata": {},
   "outputs": [],
   "source": [
    "size = int(len(df_day)*0.8)"
   ]
  },
  {
   "cell_type": "code",
   "execution_count": 82,
   "metadata": {},
   "outputs": [],
   "source": [
    "train=df_day.iloc[:size]\n",
    "test=df_day.iloc[size:]"
   ]
  },
  {
   "cell_type": "code",
   "execution_count": 83,
   "metadata": {},
   "outputs": [
    {
     "data": {
      "text/html": [
       "<div>\n",
       "<style scoped>\n",
       "    .dataframe tbody tr th:only-of-type {\n",
       "        vertical-align: middle;\n",
       "    }\n",
       "\n",
       "    .dataframe tbody tr th {\n",
       "        vertical-align: top;\n",
       "    }\n",
       "\n",
       "    .dataframe thead th {\n",
       "        text-align: right;\n",
       "    }\n",
       "</style>\n",
       "<table border=\"1\" class=\"dataframe\">\n",
       "  <thead>\n",
       "    <tr style=\"text-align: right;\">\n",
       "      <th></th>\n",
       "      <th>spx</th>\n",
       "    </tr>\n",
       "    <tr>\n",
       "      <th>date</th>\n",
       "      <th></th>\n",
       "    </tr>\n",
       "  </thead>\n",
       "  <tbody>\n",
       "    <tr>\n",
       "      <th>2013-04-01</th>\n",
       "      <td>1562.173837</td>\n",
       "    </tr>\n",
       "    <tr>\n",
       "      <th>2013-04-02</th>\n",
       "      <td>1570.252238</td>\n",
       "    </tr>\n",
       "    <tr>\n",
       "      <th>2013-04-03</th>\n",
       "      <td>1553.686978</td>\n",
       "    </tr>\n",
       "    <tr>\n",
       "      <th>2013-04-04</th>\n",
       "      <td>1559.979316</td>\n",
       "    </tr>\n",
       "    <tr>\n",
       "      <th>2013-04-05</th>\n",
       "      <td>1553.278930</td>\n",
       "    </tr>\n",
       "  </tbody>\n",
       "</table>\n",
       "</div>"
      ],
      "text/plain": [
       "                    spx\n",
       "date                   \n",
       "2013-04-01  1562.173837\n",
       "2013-04-02  1570.252238\n",
       "2013-04-03  1553.686978\n",
       "2013-04-04  1559.979316\n",
       "2013-04-05  1553.278930"
      ]
     },
     "execution_count": 83,
     "metadata": {},
     "output_type": "execute_result"
    }
   ],
   "source": [
    "train.tail()"
   ]
  },
  {
   "cell_type": "code",
   "execution_count": 84,
   "metadata": {},
   "outputs": [
    {
     "data": {
      "text/html": [
       "<div>\n",
       "<style scoped>\n",
       "    .dataframe tbody tr th:only-of-type {\n",
       "        vertical-align: middle;\n",
       "    }\n",
       "\n",
       "    .dataframe tbody tr th {\n",
       "        vertical-align: top;\n",
       "    }\n",
       "\n",
       "    .dataframe thead th {\n",
       "        text-align: right;\n",
       "    }\n",
       "</style>\n",
       "<table border=\"1\" class=\"dataframe\">\n",
       "  <thead>\n",
       "    <tr style=\"text-align: right;\">\n",
       "      <th></th>\n",
       "      <th>spx</th>\n",
       "    </tr>\n",
       "    <tr>\n",
       "      <th>date</th>\n",
       "      <th></th>\n",
       "    </tr>\n",
       "  </thead>\n",
       "  <tbody>\n",
       "    <tr>\n",
       "      <th>2013-04-08</th>\n",
       "      <td>1563.071269</td>\n",
       "    </tr>\n",
       "    <tr>\n",
       "      <th>2013-04-09</th>\n",
       "      <td>1568.607909</td>\n",
       "    </tr>\n",
       "    <tr>\n",
       "      <th>2013-04-10</th>\n",
       "      <td>1587.731827</td>\n",
       "    </tr>\n",
       "    <tr>\n",
       "      <th>2013-04-11</th>\n",
       "      <td>1593.369863</td>\n",
       "    </tr>\n",
       "    <tr>\n",
       "      <th>2013-04-12</th>\n",
       "      <td>1588.854623</td>\n",
       "    </tr>\n",
       "  </tbody>\n",
       "</table>\n",
       "</div>"
      ],
      "text/plain": [
       "                    spx\n",
       "date                   \n",
       "2013-04-08  1563.071269\n",
       "2013-04-09  1568.607909\n",
       "2013-04-10  1587.731827\n",
       "2013-04-11  1593.369863\n",
       "2013-04-12  1588.854623"
      ]
     },
     "execution_count": 84,
     "metadata": {},
     "output_type": "execute_result"
    }
   ],
   "source": [
    "test.head()"
   ]
  },
  {
   "cell_type": "code",
   "execution_count": 85,
   "metadata": {},
   "outputs": [],
   "source": [
    "wn = np.random.normal(loc=train['spx'].mean(),scale=train['spx'].std(),size=len(train))"
   ]
  },
  {
   "cell_type": "code",
   "execution_count": 86,
   "metadata": {},
   "outputs": [
    {
     "name": "stderr",
     "output_type": "stream",
     "text": [
      "/opt/conda/lib/python3.7/site-packages/ipykernel_launcher.py:1: SettingWithCopyWarning: \n",
      "A value is trying to be set on a copy of a slice from a DataFrame.\n",
      "Try using .loc[row_indexer,col_indexer] = value instead\n",
      "\n",
      "See the caveats in the documentation: http://pandas.pydata.org/pandas-docs/stable/user_guide/indexing.html#returning-a-view-versus-a-copy\n",
      "  \"\"\"Entry point for launching an IPython kernel.\n"
     ]
    }
   ],
   "source": [
    "train['wn']=wn"
   ]
  },
  {
   "cell_type": "code",
   "execution_count": 87,
   "metadata": {},
   "outputs": [
    {
     "data": {
      "text/plain": [
       "Text(0.5, 1.0, 'White Noise TS')"
      ]
     },
     "execution_count": 87,
     "metadata": {},
     "output_type": "execute_result"
    },
    {
     "data": {
      "image/png": "[encoded data removed]",
      "text/plain": [
       "<Figure size 1440x288 with 1 Axes>"
      ]
     },
     "metadata": {
      "needs_background": "light"
     },
     "output_type": "display_data"
    }
   ],
   "source": [
    "train['wn'].plot(figsize=(20,4))\n",
    "plt.ylim(0,2300)\n",
    "plt.title(\"White Noise TS\")"
   ]
  },
  {
   "cell_type": "code",
   "execution_count": 88,
   "metadata": {},
   "outputs": [
    {
     "data": {
      "text/plain": [
       "(0, 2300)"
      ]
     },
     "execution_count": 88,
     "metadata": {},
     "output_type": "execute_result"
    },
    {
     "data": {
      "image/png": "[encoded data removed]",
      "text/plain": [
       "<Figure size 1440x288 with 1 Axes>"
      ]
     },
     "metadata": {
      "needs_background": "light"
     },
     "output_type": "display_data"
    }
   ],
   "source": [
    "train['spx'].plot(figsize=(20,4))\n",
    "plt.title(\"S&P TS\")\n",
    "plt.ylim(0,2300)"
   ]
  },
  {
   "cell_type": "markdown",
   "metadata": {},
   "source": [
    "## Random Walk"
   ]
  },
  {
   "cell_type": "code",
   "execution_count": 89,
   "metadata": {},
   "outputs": [],
   "source": [
    "rw = pd.read_csv('RandWalk.csv')\n",
    "rw.date=pd.to_datetime(rw.date,dayfirst=True)"
   ]
  },
  {
   "cell_type": "code",
   "execution_count": 90,
   "metadata": {},
   "outputs": [],
   "source": [
    "rw.set_index('date',inplace=True)"
   ]
  },
  {
   "cell_type": "code",
   "execution_count": 91,
   "metadata": {},
   "outputs": [
    {
     "data": {
      "text/html": [
       "<div>\n",
       "<style scoped>\n",
       "    .dataframe tbody tr th:only-of-type {\n",
       "        vertical-align: middle;\n",
       "    }\n",
       "\n",
       "    .dataframe tbody tr th {\n",
       "        vertical-align: top;\n",
       "    }\n",
       "\n",
       "    .dataframe thead th {\n",
       "        text-align: right;\n",
       "    }\n",
       "</style>\n",
       "<table border=\"1\" class=\"dataframe\">\n",
       "  <thead>\n",
       "    <tr style=\"text-align: right;\">\n",
       "      <th></th>\n",
       "      <th>price</th>\n",
       "    </tr>\n",
       "  </thead>\n",
       "  <tbody>\n",
       "    <tr>\n",
       "      <th>count</th>\n",
       "      <td>7029.000000</td>\n",
       "    </tr>\n",
       "    <tr>\n",
       "      <th>mean</th>\n",
       "      <td>1269.648367</td>\n",
       "    </tr>\n",
       "    <tr>\n",
       "      <th>std</th>\n",
       "      <td>443.999180</td>\n",
       "    </tr>\n",
       "    <tr>\n",
       "      <th>min</th>\n",
       "      <td>574.382397</td>\n",
       "    </tr>\n",
       "    <tr>\n",
       "      <th>25%</th>\n",
       "      <td>931.488599</td>\n",
       "    </tr>\n",
       "    <tr>\n",
       "      <th>50%</th>\n",
       "      <td>1155.773451</td>\n",
       "    </tr>\n",
       "    <tr>\n",
       "      <th>75%</th>\n",
       "      <td>1488.957260</td>\n",
       "    </tr>\n",
       "    <tr>\n",
       "      <th>max</th>\n",
       "      <td>2715.508720</td>\n",
       "    </tr>\n",
       "  </tbody>\n",
       "</table>\n",
       "</div>"
      ],
      "text/plain": [
       "             price\n",
       "count  7029.000000\n",
       "mean   1269.648367\n",
       "std     443.999180\n",
       "min     574.382397\n",
       "25%     931.488599\n",
       "50%    1155.773451\n",
       "75%    1488.957260\n",
       "max    2715.508720"
      ]
     },
     "execution_count": 91,
     "metadata": {},
     "output_type": "execute_result"
    }
   ],
   "source": [
    "rw.describe()"
   ]
  },
  {
   "cell_type": "code",
   "execution_count": 92,
   "metadata": {},
   "outputs": [
    {
     "data": {
      "text/html": [
       "<div>\n",
       "<style scoped>\n",
       "    .dataframe tbody tr th:only-of-type {\n",
       "        vertical-align: middle;\n",
       "    }\n",
       "\n",
       "    .dataframe tbody tr th {\n",
       "        vertical-align: top;\n",
       "    }\n",
       "\n",
       "    .dataframe thead th {\n",
       "        text-align: right;\n",
       "    }\n",
       "</style>\n",
       "<table border=\"1\" class=\"dataframe\">\n",
       "  <thead>\n",
       "    <tr style=\"text-align: right;\">\n",
       "      <th></th>\n",
       "      <th>price</th>\n",
       "    </tr>\n",
       "  </thead>\n",
       "  <tbody>\n",
       "    <tr>\n",
       "      <th>count</th>\n",
       "      <td>5021.000000</td>\n",
       "    </tr>\n",
       "    <tr>\n",
       "      <th>mean</th>\n",
       "      <td>1269.944293</td>\n",
       "    </tr>\n",
       "    <tr>\n",
       "      <th>std</th>\n",
       "      <td>444.216793</td>\n",
       "    </tr>\n",
       "    <tr>\n",
       "      <th>min</th>\n",
       "      <td>585.483034</td>\n",
       "    </tr>\n",
       "    <tr>\n",
       "      <th>25%</th>\n",
       "      <td>931.550429</td>\n",
       "    </tr>\n",
       "    <tr>\n",
       "      <th>50%</th>\n",
       "      <td>1156.363045</td>\n",
       "    </tr>\n",
       "    <tr>\n",
       "      <th>75%</th>\n",
       "      <td>1488.362029</td>\n",
       "    </tr>\n",
       "    <tr>\n",
       "      <th>max</th>\n",
       "      <td>2715.508720</td>\n",
       "    </tr>\n",
       "  </tbody>\n",
       "</table>\n",
       "</div>"
      ],
      "text/plain": [
       "             price\n",
       "count  5021.000000\n",
       "mean   1269.944293\n",
       "std     444.216793\n",
       "min     585.483034\n",
       "25%     931.550429\n",
       "50%    1156.363045\n",
       "75%    1488.362029\n",
       "max    2715.508720"
      ]
     },
     "execution_count": 92,
     "metadata": {},
     "output_type": "execute_result"
    }
   ],
   "source": [
    "rw=rw.asfreq('b')\n",
    "rw.describe()"
   ]
  },
  {
   "cell_type": "code",
   "execution_count": 93,
   "metadata": {},
   "outputs": [
    {
     "name": "stderr",
     "output_type": "stream",
     "text": [
      "/opt/conda/lib/python3.7/site-packages/ipykernel_launcher.py:1: SettingWithCopyWarning: \n",
      "A value is trying to be set on a copy of a slice from a DataFrame.\n",
      "Try using .loc[row_indexer,col_indexer] = value instead\n",
      "\n",
      "See the caveats in the documentation: http://pandas.pydata.org/pandas-docs/stable/user_guide/indexing.html#returning-a-view-versus-a-copy\n",
      "  \"\"\"Entry point for launching an IPython kernel.\n"
     ]
    }
   ],
   "source": [
    "train['rw']=rw"
   ]
  },
  {
   "cell_type": "code",
   "execution_count": 94,
   "metadata": {},
   "outputs": [
    {
     "data": {
      "text/plain": [
       "<matplotlib.axes._subplots.AxesSubplot at 0x7ff9fb69bc88>"
      ]
     },
     "execution_count": 94,
     "metadata": {},
     "output_type": "execute_result"
    },
    {
     "data": {
      "image/png": "[encoded data removed]",
      "text/plain": [
       "<Figure size 1440x360 with 1 Axes>"
      ]
     },
     "metadata": {
      "needs_background": "light"
     },
     "output_type": "display_data"
    }
   ],
   "source": [
    "train[['spx','rw']].plot(figsize=(20,5),legend=True)"
   ]
  },
  {
   "cell_type": "code",
   "execution_count": 95,
   "metadata": {},
   "outputs": [
    {
     "data": {
      "text/plain": [
       "(-1.7371432251219479,\n",
       " 0.4120838713552569,\n",
       " 18,\n",
       " 5002,\n",
       " {'1%': -3.431658008603046,\n",
       "  '5%': -2.862117998412982,\n",
       "  '10%': -2.567077669247375},\n",
       " 39897.92531326632)"
      ]
     },
     "execution_count": 95,
     "metadata": {},
     "output_type": "execute_result"
    }
   ],
   "source": [
    "sts.adfuller(train['spx'])"
   ]
  },
  {
   "cell_type": "code",
   "execution_count": 96,
   "metadata": {},
   "outputs": [
    {
     "data": {
      "text/plain": [
       "(-49.85233773447847,\n",
       " 0.0,\n",
       " 1,\n",
       " 5019,\n",
       " {'1%': -3.4316535759402753,\n",
       "  '5%': -2.8621160400844468,\n",
       "  '10%': -2.567076626752987},\n",
       " 70677.00767875767)"
      ]
     },
     "execution_count": 96,
     "metadata": {},
     "output_type": "execute_result"
    }
   ],
   "source": [
    "sts.adfuller(train['wn'])"
   ]
  },
  {
   "cell_type": "code",
   "execution_count": 97,
   "metadata": {},
   "outputs": [
    {
     "data": {
      "text/plain": [
       "(-1.3286073927689712,\n",
       " 0.6159849181617387,\n",
       " 24,\n",
       " 4996,\n",
       " {'1%': -3.4316595802782865,\n",
       "  '5%': -2.8621186927706463,\n",
       "  '10%': -2.567078038881065},\n",
       " 46299.333497595144)"
      ]
     },
     "execution_count": 97,
     "metadata": {},
     "output_type": "execute_result"
    }
   ],
   "source": [
    "sts.adfuller(train['rw'])"
   ]
  },
  {
   "cell_type": "markdown",
   "metadata": {},
   "source": [
    "## Season"
   ]
  },
  {
   "cell_type": "code",
   "execution_count": 98,
   "metadata": {},
   "outputs": [],
   "source": [
    "from statsmodels.tsa.seasonal import seasonal_decompose"
   ]
  },
  {
   "cell_type": "code",
   "execution_count": 99,
   "metadata": {},
   "outputs": [],
   "source": [
    "s_desc_additive = seasonal_decompose(train['spx'],model='additive')"
   ]
  },
  {
   "cell_type": "code",
   "execution_count": 100,
   "metadata": {},
   "outputs": [
    {
     "data": {
      "image/png": "[encoded data removed]",
      "text/plain": [
       "<Figure size 432x288 with 4 Axes>"
      ]
     },
     "metadata": {
      "needs_background": "light"
     },
     "output_type": "display_data"
    }
   ],
   "source": [
    "s_desc_additive.plot();"
   ]
  },
  {
   "cell_type": "code",
   "execution_count": 101,
   "metadata": {},
   "outputs": [
    {
     "data": {
      "image/png": "[encoded data removed]",
      "text/plain": [
       "<Figure size 432x288 with 4 Axes>"
      ]
     },
     "metadata": {
      "needs_background": "light"
     },
     "output_type": "display_data"
    }
   ],
   "source": [
    "s_desc_multi= seasonal_decompose(train['spx'],model='multplicative')\n",
    "s_desc_multi.plot();"
   ]
  },
  {
   "cell_type": "code",
   "execution_count": 102,
   "metadata": {},
   "outputs": [],
   "source": [
    "import statsmodels.graphics.tsaplots as sgt"
   ]
  },
  {
   "cell_type": "code",
   "execution_count": 103,
   "metadata": {},
   "outputs": [
    {
     "data": {
      "text/plain": [
       "Text(0.5, 1.0, 'ACF S&P')"
      ]
     },
     "execution_count": 103,
     "metadata": {},
     "output_type": "execute_result"
    },
    {
     "data": {
      "image/png": "[encoded data removed]",
      "text/plain": [
       "<Figure size 432x288 with 1 Axes>"
      ]
     },
     "metadata": {
      "needs_background": "light"
     },
     "output_type": "display_data"
    }
   ],
   "source": [
    "sgt.plot_acf(train['spx'],lags=40,zero=False)\n",
    "plt.ylabel(\"Correlation\")\n",
    "plt.xlabel(\"lags\")\n",
    "plt.title('ACF S&P')"
   ]
  },
  {
   "cell_type": "code",
   "execution_count": 104,
   "metadata": {},
   "outputs": [
    {
     "data": {
      "text/plain": [
       "Text(0.5, 1.0, 'ACF WN')"
      ]
     },
     "execution_count": 104,
     "metadata": {},
     "output_type": "execute_result"
    },
    {
     "data": {
      "image/png": "[encoded data removed]",
      "text/plain": [
       "<Figure size 432x288 with 1 Axes>"
      ]
     },
     "metadata": {
      "needs_background": "light"
     },
     "output_type": "display_data"
    }
   ],
   "source": [
    "sgt.plot_acf(train['wn'],lags=40,zero=False)\n",
    "plt.ylabel(\"Correlation\")\n",
    "plt.xlabel(\"lags\")\n",
    "plt.title('ACF WN')\n",
    "#No correlation"
   ]
  },
  {
   "cell_type": "code",
   "execution_count": 105,
   "metadata": {},
   "outputs": [
    {
     "data": {
      "text/plain": [
       "Text(0.5, 1.0, 'ACF RW')"
      ]
     },
     "execution_count": 105,
     "metadata": {},
     "output_type": "execute_result"
    },
    {
     "data": {
      "image/png": "[encoded data removed]",
      "text/plain": [
       "<Figure size 432x288 with 1 Axes>"
      ]
     },
     "metadata": {
      "needs_background": "light"
     },
     "output_type": "display_data"
    }
   ],
   "source": [
    "sgt.plot_acf(train['rw'],lags=40,zero=False)\n",
    "plt.ylabel(\"Correlation\")\n",
    "plt.xlabel(\"lags\")\n",
    "plt.title('ACF RW')"
   ]
  },
  {
   "cell_type": "code",
   "execution_count": 106,
   "metadata": {},
   "outputs": [
    {
     "data": {
      "image/png": "[encoded data removed]",
      "text/plain": [
       "<Figure size 432x288 with 1 Axes>"
      ]
     },
     "metadata": {
      "needs_background": "light"
     },
     "output_type": "display_data"
    }
   ],
   "source": [
    "#Partial Auto correlation Function\n",
    "sgt.plot_pacf(train['spx'],lags=40,zero=False,method ='ols');\n",
    "#PACF Only show relation yesterday\n",
    "#ACF Show relation from all time"
   ]
  },
  {
   "cell_type": "code",
   "execution_count": 107,
   "metadata": {},
   "outputs": [
    {
     "data": {
      "image/png": "[encoded data removed]",
      "text/plain": [
       "<Figure size 432x288 with 1 Axes>"
      ]
     },
     "metadata": {
      "needs_background": "light"
     },
     "output_type": "display_data"
    }
   ],
   "source": [
    "sgt.plot_pacf(train['wn'],lags=40,zero=False,method ='ols');\n",
    "#No auto corr"
   ]
  },
  {
   "cell_type": "code",
   "execution_count": 108,
   "metadata": {},
   "outputs": [
    {
     "data": {
      "image/png": "[encoded data removed]",
      "text/plain": [
       "<Figure size 432x288 with 1 Axes>"
      ]
     },
     "metadata": {
      "needs_background": "light"
     },
     "output_type": "display_data"
    }
   ],
   "source": [
    "sgt.plot_pacf(train['rw'],lags=40,zero=False,method ='ols');"
   ]
  },
  {
   "cell_type": "code",
   "execution_count": 109,
   "metadata": {},
   "outputs": [
    {
     "data": {
      "image/png": "[encoded data removed]",
      "text/plain": [
       "<Figure size 432x288 with 1 Axes>"
      ]
     },
     "metadata": {
      "needs_background": "light"
     },
     "output_type": "display_data"
    }
   ],
   "source": [
    " #Autoregressive Model\n",
    "sgt.plot_acf(train['spx'],zero=False,lags=40);"
   ]
  },
  {
   "cell_type": "code",
   "execution_count": 110,
   "metadata": {},
   "outputs": [
    {
     "data": {
      "image/png": "[encoded data removed]",
      "text/plain": [
       "<Figure size 432x288 with 1 Axes>"
      ]
     },
     "metadata": {
      "needs_background": "light"
     },
     "output_type": "display_data"
    }
   ],
   "source": [
    "sgt.plot_pacf(train['spx'],lags=40,zero=False);"
   ]
  },
  {
   "cell_type": "code",
   "execution_count": 111,
   "metadata": {},
   "outputs": [],
   "source": [
    "from statsmodels.tsa.arima_model import ARMA"
   ]
  },
  {
   "cell_type": "code",
   "execution_count": 112,
   "metadata": {},
   "outputs": [
    {
     "data": {
      "text/html": [
       "<table class=\"simpletable\">\n",
       "<caption>ARMA Model Results</caption>\n",
       "<tr>\n",
       "  <th>Dep. Variable:</th>        <td>spx</td>       <th>  No. Observations:  </th>    <td>5021</td>   \n",
       "</tr>\n",
       "<tr>\n",
       "  <th>Model:</th>            <td>ARMA(1, 0)</td>    <th>  Log Likelihood     </th> <td>-20093.256</td>\n",
       "</tr>\n",
       "<tr>\n",
       "  <th>Method:</th>             <td>css-mle</td>     <th>  S.D. of innovations</th>   <td>13.227</td>  \n",
       "</tr>\n",
       "<tr>\n",
       "  <th>Date:</th>          <td>Mon, 30 Mar 2020</td> <th>  AIC                </th>  <td>40192.511</td>\n",
       "</tr>\n",
       "<tr>\n",
       "  <th>Time:</th>              <td>07:12:30</td>     <th>  BIC                </th>  <td>40212.075</td>\n",
       "</tr>\n",
       "<tr>\n",
       "  <th>Sample:</th>           <td>01-07-1994</td>    <th>  HQIC               </th>  <td>40199.367</td>\n",
       "</tr>\n",
       "<tr>\n",
       "  <th></th>                 <td>- 04-05-2013</td>   <th>                     </th>      <td> </td>    \n",
       "</tr>\n",
       "</table>\n",
       "<table class=\"simpletable\">\n",
       "<tr>\n",
       "      <td></td>         <th>coef</th>     <th>std err</th>      <th>z</th>      <th>P>|z|</th>  <th>[0.025</th>    <th>0.975]</th>  \n",
       "</tr>\n",
       "<tr>\n",
       "  <th>const</th>     <td> 1071.6280</td> <td>  227.738</td> <td>    4.706</td> <td> 0.000</td> <td>  625.269</td> <td> 1517.987</td>\n",
       "</tr>\n",
       "<tr>\n",
       "  <th>ar.L1.spx</th> <td>    0.9994</td> <td>    0.001</td> <td> 1913.872</td> <td> 0.000</td> <td>    0.998</td> <td>    1.000</td>\n",
       "</tr>\n",
       "</table>\n",
       "<table class=\"simpletable\">\n",
       "<caption>Roots</caption>\n",
       "<tr>\n",
       "    <td></td>   <th>            Real</th>  <th>         Imaginary</th> <th>         Modulus</th>  <th>        Frequency</th>\n",
       "</tr>\n",
       "<tr>\n",
       "  <th>AR.1</th> <td>           1.0006</td> <td>          +0.0000j</td> <td>           1.0006</td> <td>           0.0000</td>\n",
       "</tr>\n",
       "</table>"
      ],
      "text/plain": [
       "<class 'statsmodels.iolib.summary.Summary'>\n",
       "\"\"\"\n",
       "                              ARMA Model Results                              \n",
       "==============================================================================\n",
       "Dep. Variable:                    spx   No. Observations:                 5021\n",
       "Model:                     ARMA(1, 0)   Log Likelihood              -20093.256\n",
       "Method:                       css-mle   S.D. of innovations             13.227\n",
       "Date:                Mon, 30 Mar 2020   AIC                          40192.511\n",
       "Time:                        07:12:30   BIC                          40212.075\n",
       "Sample:                    01-07-1994   HQIC                         40199.367\n",
       "                         - 04-05-2013                                         \n",
       "==============================================================================\n",
       "                 coef    std err          z      P>|z|      [0.025      0.975]\n",
       "------------------------------------------------------------------------------\n",
       "const       1071.6280    227.738      4.706      0.000     625.269    1517.987\n",
       "ar.L1.spx      0.9994      0.001   1913.872      0.000       0.998       1.000\n",
       "                                    Roots                                    \n",
       "=============================================================================\n",
       "                  Real          Imaginary           Modulus         Frequency\n",
       "-----------------------------------------------------------------------------\n",
       "AR.1            1.0006           +0.0000j            1.0006            0.0000\n",
       "-----------------------------------------------------------------------------\n",
       "\"\"\""
      ]
     },
     "execution_count": 112,
     "metadata": {},
     "output_type": "execute_result"
    }
   ],
   "source": [
    "arma=ARMA(train['spx'],order=(1,0))\n",
    "results_ar=arma.fit()\n",
    "results_ar.summary()"
   ]
  },
  {
   "cell_type": "code",
   "execution_count": 113,
   "metadata": {},
   "outputs": [
    {
     "data": {
      "text/html": [
       "<table class=\"simpletable\">\n",
       "<caption>ARMA Model Results</caption>\n",
       "<tr>\n",
       "  <th>Dep. Variable:</th>        <td>spx</td>       <th>  No. Observations:  </th>    <td>5021</td>   \n",
       "</tr>\n",
       "<tr>\n",
       "  <th>Model:</th>            <td>ARMA(2, 0)</td>    <th>  Log Likelihood     </th> <td>-20081.669</td>\n",
       "</tr>\n",
       "<tr>\n",
       "  <th>Method:</th>             <td>css-mle</td>     <th>  S.D. of innovations</th>   <td>13.196</td>  \n",
       "</tr>\n",
       "<tr>\n",
       "  <th>Date:</th>          <td>Mon, 30 Mar 2020</td> <th>  AIC                </th>  <td>40171.338</td>\n",
       "</tr>\n",
       "<tr>\n",
       "  <th>Time:</th>              <td>07:12:31</td>     <th>  BIC                </th>  <td>40197.423</td>\n",
       "</tr>\n",
       "<tr>\n",
       "  <th>Sample:</th>           <td>01-07-1994</td>    <th>  HQIC               </th>  <td>40180.478</td>\n",
       "</tr>\n",
       "<tr>\n",
       "  <th></th>                 <td>- 04-05-2013</td>   <th>                     </th>      <td> </td>    \n",
       "</tr>\n",
       "</table>\n",
       "<table class=\"simpletable\">\n",
       "<tr>\n",
       "      <td></td>         <th>coef</th>     <th>std err</th>      <th>z</th>      <th>P>|z|</th>  <th>[0.025</th>    <th>0.975]</th>  \n",
       "</tr>\n",
       "<tr>\n",
       "  <th>const</th>     <td> 1064.0831</td> <td>  247.872</td> <td>    4.293</td> <td> 0.000</td> <td>  578.263</td> <td> 1549.904</td>\n",
       "</tr>\n",
       "<tr>\n",
       "  <th>ar.L1.spx</th> <td>    0.9316</td> <td>    0.014</td> <td>   68.111</td> <td> 0.000</td> <td>    0.905</td> <td>    0.958</td>\n",
       "</tr>\n",
       "<tr>\n",
       "  <th>ar.L2.spx</th> <td>    0.0679</td> <td>    0.014</td> <td>    4.961</td> <td> 0.000</td> <td>    0.041</td> <td>    0.095</td>\n",
       "</tr>\n",
       "</table>\n",
       "<table class=\"simpletable\">\n",
       "<caption>Roots</caption>\n",
       "<tr>\n",
       "    <td></td>   <th>            Real</th>  <th>         Imaginary</th> <th>         Modulus</th>  <th>        Frequency</th>\n",
       "</tr>\n",
       "<tr>\n",
       "  <th>AR.1</th> <td>           1.0005</td> <td>          +0.0000j</td> <td>           1.0005</td> <td>           0.0000</td>\n",
       "</tr>\n",
       "<tr>\n",
       "  <th>AR.2</th> <td>         -14.7243</td> <td>          +0.0000j</td> <td>          14.7243</td> <td>           0.5000</td>\n",
       "</tr>\n",
       "</table>"
      ],
      "text/plain": [
       "<class 'statsmodels.iolib.summary.Summary'>\n",
       "\"\"\"\n",
       "                              ARMA Model Results                              \n",
       "==============================================================================\n",
       "Dep. Variable:                    spx   No. Observations:                 5021\n",
       "Model:                     ARMA(2, 0)   Log Likelihood              -20081.669\n",
       "Method:                       css-mle   S.D. of innovations             13.196\n",
       "Date:                Mon, 30 Mar 2020   AIC                          40171.338\n",
       "Time:                        07:12:31   BIC                          40197.423\n",
       "Sample:                    01-07-1994   HQIC                         40180.478\n",
       "                         - 04-05-2013                                         \n",
       "==============================================================================\n",
       "                 coef    std err          z      P>|z|      [0.025      0.975]\n",
       "------------------------------------------------------------------------------\n",
       "const       1064.0831    247.872      4.293      0.000     578.263    1549.904\n",
       "ar.L1.spx      0.9316      0.014     68.111      0.000       0.905       0.958\n",
       "ar.L2.spx      0.0679      0.014      4.961      0.000       0.041       0.095\n",
       "                                    Roots                                    \n",
       "=============================================================================\n",
       "                  Real          Imaginary           Modulus         Frequency\n",
       "-----------------------------------------------------------------------------\n",
       "AR.1            1.0005           +0.0000j            1.0005            0.0000\n",
       "AR.2          -14.7243           +0.0000j           14.7243            0.5000\n",
       "-----------------------------------------------------------------------------\n",
       "\"\"\""
      ]
     },
     "execution_count": 113,
     "metadata": {},
     "output_type": "execute_result"
    }
   ],
   "source": [
    "arma2=ARMA(train['spx'],order=(2,0))\n",
    "results2_ar=arma2.fit()\n",
    "results2_ar.summary()"
   ]
  },
  {
   "cell_type": "code",
   "execution_count": 114,
   "metadata": {},
   "outputs": [
    {
     "data": {
      "text/html": [
       "<table class=\"simpletable\">\n",
       "<caption>ARMA Model Results</caption>\n",
       "<tr>\n",
       "  <th>Dep. Variable:</th>        <td>spx</td>       <th>  No. Observations:  </th>    <td>5021</td>   \n",
       "</tr>\n",
       "<tr>\n",
       "  <th>Model:</th>            <td>ARMA(3, 0)</td>    <th>  Log Likelihood     </th> <td>-20078.501</td>\n",
       "</tr>\n",
       "<tr>\n",
       "  <th>Method:</th>             <td>css-mle</td>     <th>  S.D. of innovations</th>   <td>13.188</td>  \n",
       "</tr>\n",
       "<tr>\n",
       "  <th>Date:</th>          <td>Mon, 30 Mar 2020</td> <th>  AIC                </th>  <td>40167.003</td>\n",
       "</tr>\n",
       "<tr>\n",
       "  <th>Time:</th>              <td>07:12:31</td>     <th>  BIC                </th>  <td>40199.609</td>\n",
       "</tr>\n",
       "<tr>\n",
       "  <th>Sample:</th>           <td>01-07-1994</td>    <th>  HQIC               </th>  <td>40178.428</td>\n",
       "</tr>\n",
       "<tr>\n",
       "  <th></th>                 <td>- 04-05-2013</td>   <th>                     </th>      <td> </td>    \n",
       "</tr>\n",
       "</table>\n",
       "<table class=\"simpletable\">\n",
       "<tr>\n",
       "      <td></td>         <th>coef</th>     <th>std err</th>      <th>z</th>      <th>P>|z|</th>  <th>[0.025</th>    <th>0.975]</th>  \n",
       "</tr>\n",
       "<tr>\n",
       "  <th>const</th>     <td> 1057.2425</td> <td>  259.236</td> <td>    4.078</td> <td> 0.000</td> <td>  549.149</td> <td> 1565.336</td>\n",
       "</tr>\n",
       "<tr>\n",
       "  <th>ar.L1.spx</th> <td>    0.9291</td> <td>    0.014</td> <td>   68.394</td> <td> 0.000</td> <td>    0.903</td> <td>    0.956</td>\n",
       "</tr>\n",
       "<tr>\n",
       "  <th>ar.L2.spx</th> <td>    0.0348</td> <td>    0.019</td> <td>    1.839</td> <td> 0.066</td> <td>   -0.002</td> <td>    0.072</td>\n",
       "</tr>\n",
       "<tr>\n",
       "  <th>ar.L3.spx</th> <td>    0.0355</td> <td>    0.014</td> <td>    2.518</td> <td> 0.012</td> <td>    0.008</td> <td>    0.063</td>\n",
       "</tr>\n",
       "</table>\n",
       "<table class=\"simpletable\">\n",
       "<caption>Roots</caption>\n",
       "<tr>\n",
       "    <td></td>   <th>            Real</th>  <th>         Imaginary</th> <th>         Modulus</th>  <th>        Frequency</th>\n",
       "</tr>\n",
       "<tr>\n",
       "  <th>AR.1</th> <td>           1.0005</td> <td>          -0.0000j</td> <td>           1.0005</td> <td>          -0.0000</td>\n",
       "</tr>\n",
       "<tr>\n",
       "  <th>AR.2</th> <td>          -0.9903</td> <td>          -5.2117j</td> <td>           5.3050</td> <td>          -0.2799</td>\n",
       "</tr>\n",
       "<tr>\n",
       "  <th>AR.3</th> <td>          -0.9903</td> <td>          +5.2117j</td> <td>           5.3050</td> <td>           0.2799</td>\n",
       "</tr>\n",
       "</table>"
      ],
      "text/plain": [
       "<class 'statsmodels.iolib.summary.Summary'>\n",
       "\"\"\"\n",
       "                              ARMA Model Results                              \n",
       "==============================================================================\n",
       "Dep. Variable:                    spx   No. Observations:                 5021\n",
       "Model:                     ARMA(3, 0)   Log Likelihood              -20078.501\n",
       "Method:                       css-mle   S.D. of innovations             13.188\n",
       "Date:                Mon, 30 Mar 2020   AIC                          40167.003\n",
       "Time:                        07:12:31   BIC                          40199.609\n",
       "Sample:                    01-07-1994   HQIC                         40178.428\n",
       "                         - 04-05-2013                                         \n",
       "==============================================================================\n",
       "                 coef    std err          z      P>|z|      [0.025      0.975]\n",
       "------------------------------------------------------------------------------\n",
       "const       1057.2425    259.236      4.078      0.000     549.149    1565.336\n",
       "ar.L1.spx      0.9291      0.014     68.394      0.000       0.903       0.956\n",
       "ar.L2.spx      0.0348      0.019      1.839      0.066      -0.002       0.072\n",
       "ar.L3.spx      0.0355      0.014      2.518      0.012       0.008       0.063\n",
       "                                    Roots                                    \n",
       "=============================================================================\n",
       "                  Real          Imaginary           Modulus         Frequency\n",
       "-----------------------------------------------------------------------------\n",
       "AR.1            1.0005           -0.0000j            1.0005           -0.0000\n",
       "AR.2           -0.9903           -5.2117j            5.3050           -0.2799\n",
       "AR.3           -0.9903           +5.2117j            5.3050            0.2799\n",
       "-----------------------------------------------------------------------------\n",
       "\"\"\""
      ]
     },
     "execution_count": 114,
     "metadata": {},
     "output_type": "execute_result"
    }
   ],
   "source": [
    "arma3=ARMA(train['spx'],order=(3,0))\n",
    "results3_ar=arma3.fit()\n",
    "results3_ar.summary()"
   ]
  },
  {
   "cell_type": "code",
   "execution_count": 115,
   "metadata": {},
   "outputs": [
    {
     "name": "stderr",
     "output_type": "stream",
     "text": [
      "/opt/conda/lib/python3.7/site-packages/ipykernel_launcher.py:1: SettingWithCopyWarning: \n",
      "A value is trying to be set on a copy of a slice from a DataFrame.\n",
      "Try using .loc[row_indexer,col_indexer] = value instead\n",
      "\n",
      "See the caveats in the documentation: http://pandas.pydata.org/pandas-docs/stable/user_guide/indexing.html#returning-a-view-versus-a-copy\n",
      "  \"\"\"Entry point for launching an IPython kernel.\n"
     ]
    }
   ],
   "source": [
    "train['returns']=train['spx'].pct_change(1).mul(100)"
   ]
  },
  {
   "cell_type": "code",
   "execution_count": 116,
   "metadata": {},
   "outputs": [
    {
     "data": {
      "text/html": [
       "<div>\n",
       "<style scoped>\n",
       "    .dataframe tbody tr th:only-of-type {\n",
       "        vertical-align: middle;\n",
       "    }\n",
       "\n",
       "    .dataframe tbody tr th {\n",
       "        vertical-align: top;\n",
       "    }\n",
       "\n",
       "    .dataframe thead th {\n",
       "        text-align: right;\n",
       "    }\n",
       "</style>\n",
       "<table border=\"1\" class=\"dataframe\">\n",
       "  <thead>\n",
       "    <tr style=\"text-align: right;\">\n",
       "      <th></th>\n",
       "      <th>spx</th>\n",
       "      <th>wn</th>\n",
       "      <th>rw</th>\n",
       "      <th>returns</th>\n",
       "    </tr>\n",
       "    <tr>\n",
       "      <th>date</th>\n",
       "      <th></th>\n",
       "      <th></th>\n",
       "      <th></th>\n",
       "      <th></th>\n",
       "    </tr>\n",
       "  </thead>\n",
       "  <tbody>\n",
       "    <tr>\n",
       "      <th>1994-01-07</th>\n",
       "      <td>469.900000</td>\n",
       "      <td>1100.453032</td>\n",
       "      <td>1122.139662</td>\n",
       "      <td>NaN</td>\n",
       "    </tr>\n",
       "    <tr>\n",
       "      <th>1994-01-10</th>\n",
       "      <td>475.270000</td>\n",
       "      <td>1438.973796</td>\n",
       "      <td>1080.347860</td>\n",
       "      <td>1.142796</td>\n",
       "    </tr>\n",
       "    <tr>\n",
       "      <th>1994-01-11</th>\n",
       "      <td>474.130000</td>\n",
       "      <td>963.713007</td>\n",
       "      <td>1082.095245</td>\n",
       "      <td>-0.239864</td>\n",
       "    </tr>\n",
       "    <tr>\n",
       "      <th>1994-01-12</th>\n",
       "      <td>474.170000</td>\n",
       "      <td>927.266638</td>\n",
       "      <td>1083.639265</td>\n",
       "      <td>0.008437</td>\n",
       "    </tr>\n",
       "    <tr>\n",
       "      <th>1994-01-13</th>\n",
       "      <td>472.470000</td>\n",
       "      <td>1786.325480</td>\n",
       "      <td>1067.146255</td>\n",
       "      <td>-0.358521</td>\n",
       "    </tr>\n",
       "    <tr>\n",
       "      <th>...</th>\n",
       "      <td>...</td>\n",
       "      <td>...</td>\n",
       "      <td>...</td>\n",
       "      <td>...</td>\n",
       "    </tr>\n",
       "    <tr>\n",
       "      <th>2013-04-01</th>\n",
       "      <td>1562.173837</td>\n",
       "      <td>941.468280</td>\n",
       "      <td>2263.675474</td>\n",
       "      <td>-0.446858</td>\n",
       "    </tr>\n",
       "    <tr>\n",
       "      <th>2013-04-02</th>\n",
       "      <td>1570.252238</td>\n",
       "      <td>1295.725447</td>\n",
       "      <td>2225.000870</td>\n",
       "      <td>0.517126</td>\n",
       "    </tr>\n",
       "    <tr>\n",
       "      <th>2013-04-03</th>\n",
       "      <td>1553.686978</td>\n",
       "      <td>1272.071434</td>\n",
       "      <td>2190.787688</td>\n",
       "      <td>-1.054943</td>\n",
       "    </tr>\n",
       "    <tr>\n",
       "      <th>2013-04-04</th>\n",
       "      <td>1559.979316</td>\n",
       "      <td>948.586059</td>\n",
       "      <td>2195.240033</td>\n",
       "      <td>0.404994</td>\n",
       "    </tr>\n",
       "    <tr>\n",
       "      <th>2013-04-05</th>\n",
       "      <td>1553.278930</td>\n",
       "      <td>801.084180</td>\n",
       "      <td>2152.992143</td>\n",
       "      <td>-0.429518</td>\n",
       "    </tr>\n",
       "  </tbody>\n",
       "</table>\n",
       "<p>5021 rows × 4 columns</p>\n",
       "</div>"
      ],
      "text/plain": [
       "                    spx           wn           rw   returns\n",
       "date                                                       \n",
       "1994-01-07   469.900000  1100.453032  1122.139662       NaN\n",
       "1994-01-10   475.270000  1438.973796  1080.347860  1.142796\n",
       "1994-01-11   474.130000   963.713007  1082.095245 -0.239864\n",
       "1994-01-12   474.170000   927.266638  1083.639265  0.008437\n",
       "1994-01-13   472.470000  1786.325480  1067.146255 -0.358521\n",
       "...                 ...          ...          ...       ...\n",
       "2013-04-01  1562.173837   941.468280  2263.675474 -0.446858\n",
       "2013-04-02  1570.252238  1295.725447  2225.000870  0.517126\n",
       "2013-04-03  1553.686978  1272.071434  2190.787688 -1.054943\n",
       "2013-04-04  1559.979316   948.586059  2195.240033  0.404994\n",
       "2013-04-05  1553.278930   801.084180  2152.992143 -0.429518\n",
       "\n",
       "[5021 rows x 4 columns]"
      ]
     },
     "execution_count": 116,
     "metadata": {},
     "output_type": "execute_result"
    }
   ],
   "source": [
    "train"
   ]
  },
  {
   "cell_type": "code",
   "execution_count": 117,
   "metadata": {},
   "outputs": [],
   "source": [
    "train=train.iloc[1:]"
   ]
  },
  {
   "cell_type": "code",
   "execution_count": 118,
   "metadata": {},
   "outputs": [
    {
     "data": {
      "text/html": [
       "<div>\n",
       "<style scoped>\n",
       "    .dataframe tbody tr th:only-of-type {\n",
       "        vertical-align: middle;\n",
       "    }\n",
       "\n",
       "    .dataframe tbody tr th {\n",
       "        vertical-align: top;\n",
       "    }\n",
       "\n",
       "    .dataframe thead th {\n",
       "        text-align: right;\n",
       "    }\n",
       "</style>\n",
       "<table border=\"1\" class=\"dataframe\">\n",
       "  <thead>\n",
       "    <tr style=\"text-align: right;\">\n",
       "      <th></th>\n",
       "      <th>spx</th>\n",
       "      <th>wn</th>\n",
       "      <th>rw</th>\n",
       "      <th>returns</th>\n",
       "    </tr>\n",
       "    <tr>\n",
       "      <th>date</th>\n",
       "      <th></th>\n",
       "      <th></th>\n",
       "      <th></th>\n",
       "      <th></th>\n",
       "    </tr>\n",
       "  </thead>\n",
       "  <tbody>\n",
       "    <tr>\n",
       "      <th>1994-01-10</th>\n",
       "      <td>475.270000</td>\n",
       "      <td>1438.973796</td>\n",
       "      <td>1080.347860</td>\n",
       "      <td>1.142796</td>\n",
       "    </tr>\n",
       "    <tr>\n",
       "      <th>1994-01-11</th>\n",
       "      <td>474.130000</td>\n",
       "      <td>963.713007</td>\n",
       "      <td>1082.095245</td>\n",
       "      <td>-0.239864</td>\n",
       "    </tr>\n",
       "    <tr>\n",
       "      <th>1994-01-12</th>\n",
       "      <td>474.170000</td>\n",
       "      <td>927.266638</td>\n",
       "      <td>1083.639265</td>\n",
       "      <td>0.008437</td>\n",
       "    </tr>\n",
       "    <tr>\n",
       "      <th>1994-01-13</th>\n",
       "      <td>472.470000</td>\n",
       "      <td>1786.325480</td>\n",
       "      <td>1067.146255</td>\n",
       "      <td>-0.358521</td>\n",
       "    </tr>\n",
       "    <tr>\n",
       "      <th>1994-01-14</th>\n",
       "      <td>474.910000</td>\n",
       "      <td>1204.573018</td>\n",
       "      <td>1080.129720</td>\n",
       "      <td>0.516435</td>\n",
       "    </tr>\n",
       "    <tr>\n",
       "      <th>...</th>\n",
       "      <td>...</td>\n",
       "      <td>...</td>\n",
       "      <td>...</td>\n",
       "      <td>...</td>\n",
       "    </tr>\n",
       "    <tr>\n",
       "      <th>2013-04-01</th>\n",
       "      <td>1562.173837</td>\n",
       "      <td>941.468280</td>\n",
       "      <td>2263.675474</td>\n",
       "      <td>-0.446858</td>\n",
       "    </tr>\n",
       "    <tr>\n",
       "      <th>2013-04-02</th>\n",
       "      <td>1570.252238</td>\n",
       "      <td>1295.725447</td>\n",
       "      <td>2225.000870</td>\n",
       "      <td>0.517126</td>\n",
       "    </tr>\n",
       "    <tr>\n",
       "      <th>2013-04-03</th>\n",
       "      <td>1553.686978</td>\n",
       "      <td>1272.071434</td>\n",
       "      <td>2190.787688</td>\n",
       "      <td>-1.054943</td>\n",
       "    </tr>\n",
       "    <tr>\n",
       "      <th>2013-04-04</th>\n",
       "      <td>1559.979316</td>\n",
       "      <td>948.586059</td>\n",
       "      <td>2195.240033</td>\n",
       "      <td>0.404994</td>\n",
       "    </tr>\n",
       "    <tr>\n",
       "      <th>2013-04-05</th>\n",
       "      <td>1553.278930</td>\n",
       "      <td>801.084180</td>\n",
       "      <td>2152.992143</td>\n",
       "      <td>-0.429518</td>\n",
       "    </tr>\n",
       "  </tbody>\n",
       "</table>\n",
       "<p>5020 rows × 4 columns</p>\n",
       "</div>"
      ],
      "text/plain": [
       "                    spx           wn           rw   returns\n",
       "date                                                       \n",
       "1994-01-10   475.270000  1438.973796  1080.347860  1.142796\n",
       "1994-01-11   474.130000   963.713007  1082.095245 -0.239864\n",
       "1994-01-12   474.170000   927.266638  1083.639265  0.008437\n",
       "1994-01-13   472.470000  1786.325480  1067.146255 -0.358521\n",
       "1994-01-14   474.910000  1204.573018  1080.129720  0.516435\n",
       "...                 ...          ...          ...       ...\n",
       "2013-04-01  1562.173837   941.468280  2263.675474 -0.446858\n",
       "2013-04-02  1570.252238  1295.725447  2225.000870  0.517126\n",
       "2013-04-03  1553.686978  1272.071434  2190.787688 -1.054943\n",
       "2013-04-04  1559.979316   948.586059  2195.240033  0.404994\n",
       "2013-04-05  1553.278930   801.084180  2152.992143 -0.429518\n",
       "\n",
       "[5020 rows x 4 columns]"
      ]
     },
     "execution_count": 118,
     "metadata": {},
     "output_type": "execute_result"
    }
   ],
   "source": [
    "train"
   ]
  },
  {
   "cell_type": "code",
   "execution_count": 119,
   "metadata": {},
   "outputs": [],
   "source": [
    "df['returns']=df['ftse'].pct_change(1)"
   ]
  },
  {
   "cell_type": "code",
   "execution_count": 120,
   "metadata": {},
   "outputs": [],
   "source": [
    "df=df.iloc[1:]"
   ]
  },
  {
   "cell_type": "code",
   "execution_count": 121,
   "metadata": {},
   "outputs": [
    {
     "data": {
      "image/png": "[encoded data removed]",
      "text/plain": [
       "<Figure size 432x288 with 1 Axes>"
      ]
     },
     "metadata": {
      "needs_background": "light"
     },
     "output_type": "display_data"
    }
   ],
   "source": [
    "#FTSE\n",
    "sgt.plot_acf(df['returns'],lags=40,zero=False);"
   ]
  },
  {
   "cell_type": "code",
   "execution_count": 122,
   "metadata": {},
   "outputs": [
    {
     "data": {
      "image/png": "[encoded data removed]",
      "text/plain": [
       "<Figure size 432x288 with 1 Axes>"
      ]
     },
     "metadata": {
      "needs_background": "light"
     },
     "output_type": "display_data"
    }
   ],
   "source": [
    "sgt.plot_pacf(df['returns'],lags=40,zero=False);"
   ]
  },
  {
   "cell_type": "code",
   "execution_count": 123,
   "metadata": {},
   "outputs": [
    {
     "name": "stderr",
     "output_type": "stream",
     "text": [
      "/opt/conda/lib/python3.7/site-packages/statsmodels/tsa/base/tsa_model.py:219: ValueWarning: A date index has been provided, but it has no associated frequency information and so will be ignored when e.g. forecasting.\n",
      "  ' ignored when e.g. forecasting.', ValueWarning)\n"
     ]
    }
   ],
   "source": [
    "model_ret_ar1=ARMA(df.returns,order=(1,0))"
   ]
  },
  {
   "cell_type": "code",
   "execution_count": 124,
   "metadata": {},
   "outputs": [],
   "source": [
    "results_ret_ar1=model_ret_ar1.fit()"
   ]
  },
  {
   "cell_type": "code",
   "execution_count": 125,
   "metadata": {},
   "outputs": [
    {
     "data": {
      "text/html": [
       "<table class=\"simpletable\">\n",
       "<caption>ARMA Model Results</caption>\n",
       "<tr>\n",
       "  <th>Dep. Variable:</th>      <td>returns</td>     <th>  No. Observations:  </th>    <td>6268</td>   \n",
       "</tr>\n",
       "<tr>\n",
       "  <th>Model:</th>            <td>ARMA(1, 0)</td>    <th>  Log Likelihood     </th>  <td>19275.699</td>\n",
       "</tr>\n",
       "<tr>\n",
       "  <th>Method:</th>             <td>css-mle</td>     <th>  S.D. of innovations</th>    <td>0.011</td>  \n",
       "</tr>\n",
       "<tr>\n",
       "  <th>Date:</th>          <td>Mon, 30 Mar 2020</td> <th>  AIC                </th> <td>-38545.399</td>\n",
       "</tr>\n",
       "<tr>\n",
       "  <th>Time:</th>              <td>07:12:34</td>     <th>  BIC                </th> <td>-38525.169</td>\n",
       "</tr>\n",
       "<tr>\n",
       "  <th>Sample:</th>                <td>0</td>        <th>  HQIC               </th> <td>-38538.389</td>\n",
       "</tr>\n",
       "<tr>\n",
       "  <th></th>                       <td> </td>        <th>                     </th>      <td> </td>    \n",
       "</tr>\n",
       "</table>\n",
       "<table class=\"simpletable\">\n",
       "<tr>\n",
       "        <td></td>           <th>coef</th>     <th>std err</th>      <th>z</th>      <th>P>|z|</th>  <th>[0.025</th>    <th>0.975]</th>  \n",
       "</tr>\n",
       "<tr>\n",
       "  <th>const</th>         <td>    0.0002</td> <td>    0.000</td> <td>    1.371</td> <td> 0.171</td> <td>-8.18e-05</td> <td>    0.000</td>\n",
       "</tr>\n",
       "<tr>\n",
       "  <th>ar.L1.returns</th> <td>   -0.0172</td> <td>    0.013</td> <td>   -1.364</td> <td> 0.173</td> <td>   -0.042</td> <td>    0.008</td>\n",
       "</tr>\n",
       "</table>\n",
       "<table class=\"simpletable\">\n",
       "<caption>Roots</caption>\n",
       "<tr>\n",
       "    <td></td>   <th>            Real</th>  <th>         Imaginary</th> <th>         Modulus</th>  <th>        Frequency</th>\n",
       "</tr>\n",
       "<tr>\n",
       "  <th>AR.1</th> <td>         -58.0479</td> <td>          +0.0000j</td> <td>          58.0479</td> <td>           0.5000</td>\n",
       "</tr>\n",
       "</table>"
      ],
      "text/plain": [
       "<class 'statsmodels.iolib.summary.Summary'>\n",
       "\"\"\"\n",
       "                              ARMA Model Results                              \n",
       "==============================================================================\n",
       "Dep. Variable:                returns   No. Observations:                 6268\n",
       "Model:                     ARMA(1, 0)   Log Likelihood               19275.699\n",
       "Method:                       css-mle   S.D. of innovations              0.011\n",
       "Date:                Mon, 30 Mar 2020   AIC                         -38545.399\n",
       "Time:                        07:12:34   BIC                         -38525.169\n",
       "Sample:                             0   HQIC                        -38538.389\n",
       "                                                                              \n",
       "=================================================================================\n",
       "                    coef    std err          z      P>|z|      [0.025      0.975]\n",
       "---------------------------------------------------------------------------------\n",
       "const             0.0002      0.000      1.371      0.171   -8.18e-05       0.000\n",
       "ar.L1.returns    -0.0172      0.013     -1.364      0.173      -0.042       0.008\n",
       "                                    Roots                                    \n",
       "=============================================================================\n",
       "                  Real          Imaginary           Modulus         Frequency\n",
       "-----------------------------------------------------------------------------\n",
       "AR.1          -58.0479           +0.0000j           58.0479            0.5000\n",
       "-----------------------------------------------------------------------------\n",
       "\"\"\""
      ]
     },
     "execution_count": 125,
     "metadata": {},
     "output_type": "execute_result"
    }
   ],
   "source": [
    "results_ret_ar1.summary()"
   ]
  },
  {
   "cell_type": "code",
   "execution_count": 126,
   "metadata": {},
   "outputs": [
    {
     "name": "stderr",
     "output_type": "stream",
     "text": [
      "/opt/conda/lib/python3.7/site-packages/statsmodels/tsa/base/tsa_model.py:219: ValueWarning: A date index has been provided, but it has no associated frequency information and so will be ignored when e.g. forecasting.\n",
      "  ' ignored when e.g. forecasting.', ValueWarning)\n"
     ]
    },
    {
     "data": {
      "text/html": [
       "<table class=\"simpletable\">\n",
       "<caption>ARMA Model Results</caption>\n",
       "<tr>\n",
       "  <th>Dep. Variable:</th>      <td>returns</td>     <th>  No. Observations:  </th>    <td>6268</td>   \n",
       "</tr>\n",
       "<tr>\n",
       "  <th>Model:</th>            <td>ARMA(2, 0)</td>    <th>  Log Likelihood     </th>  <td>19283.030</td>\n",
       "</tr>\n",
       "<tr>\n",
       "  <th>Method:</th>             <td>css-mle</td>     <th>  S.D. of innovations</th>    <td>0.011</td>  \n",
       "</tr>\n",
       "<tr>\n",
       "  <th>Date:</th>          <td>Mon, 30 Mar 2020</td> <th>  AIC                </th> <td>-38558.059</td>\n",
       "</tr>\n",
       "<tr>\n",
       "  <th>Time:</th>              <td>07:12:35</td>     <th>  BIC                </th> <td>-38531.087</td>\n",
       "</tr>\n",
       "<tr>\n",
       "  <th>Sample:</th>                <td>0</td>        <th>  HQIC               </th> <td>-38548.713</td>\n",
       "</tr>\n",
       "<tr>\n",
       "  <th></th>                       <td> </td>        <th>                     </th>      <td> </td>    \n",
       "</tr>\n",
       "</table>\n",
       "<table class=\"simpletable\">\n",
       "<tr>\n",
       "        <td></td>           <th>coef</th>     <th>std err</th>      <th>z</th>      <th>P>|z|</th>  <th>[0.025</th>    <th>0.975]</th>  \n",
       "</tr>\n",
       "<tr>\n",
       "  <th>const</th>         <td>    0.0002</td> <td>    0.000</td> <td>    1.439</td> <td> 0.150</td> <td>-6.89e-05</td> <td>    0.000</td>\n",
       "</tr>\n",
       "<tr>\n",
       "  <th>ar.L1.returns</th> <td>   -0.0181</td> <td>    0.013</td> <td>   -1.432</td> <td> 0.152</td> <td>   -0.043</td> <td>    0.007</td>\n",
       "</tr>\n",
       "<tr>\n",
       "  <th>ar.L2.returns</th> <td>   -0.0484</td> <td>    0.013</td> <td>   -3.833</td> <td> 0.000</td> <td>   -0.073</td> <td>   -0.024</td>\n",
       "</tr>\n",
       "</table>\n",
       "<table class=\"simpletable\">\n",
       "<caption>Roots</caption>\n",
       "<tr>\n",
       "    <td></td>   <th>            Real</th>  <th>         Imaginary</th> <th>         Modulus</th>  <th>        Frequency</th>\n",
       "</tr>\n",
       "<tr>\n",
       "  <th>AR.1</th> <td>          -0.1868</td> <td>          -4.5438j</td> <td>           4.5476</td> <td>          -0.2565</td>\n",
       "</tr>\n",
       "<tr>\n",
       "  <th>AR.2</th> <td>          -0.1868</td> <td>          +4.5438j</td> <td>           4.5476</td> <td>           0.2565</td>\n",
       "</tr>\n",
       "</table>"
      ],
      "text/plain": [
       "<class 'statsmodels.iolib.summary.Summary'>\n",
       "\"\"\"\n",
       "                              ARMA Model Results                              \n",
       "==============================================================================\n",
       "Dep. Variable:                returns   No. Observations:                 6268\n",
       "Model:                     ARMA(2, 0)   Log Likelihood               19283.030\n",
       "Method:                       css-mle   S.D. of innovations              0.011\n",
       "Date:                Mon, 30 Mar 2020   AIC                         -38558.059\n",
       "Time:                        07:12:35   BIC                         -38531.087\n",
       "Sample:                             0   HQIC                        -38548.713\n",
       "                                                                              \n",
       "=================================================================================\n",
       "                    coef    std err          z      P>|z|      [0.025      0.975]\n",
       "---------------------------------------------------------------------------------\n",
       "const             0.0002      0.000      1.439      0.150   -6.89e-05       0.000\n",
       "ar.L1.returns    -0.0181      0.013     -1.432      0.152      -0.043       0.007\n",
       "ar.L2.returns    -0.0484      0.013     -3.833      0.000      -0.073      -0.024\n",
       "                                    Roots                                    \n",
       "=============================================================================\n",
       "                  Real          Imaginary           Modulus         Frequency\n",
       "-----------------------------------------------------------------------------\n",
       "AR.1           -0.1868           -4.5438j            4.5476           -0.2565\n",
       "AR.2           -0.1868           +4.5438j            4.5476            0.2565\n",
       "-----------------------------------------------------------------------------\n",
       "\"\"\""
      ]
     },
     "execution_count": 126,
     "metadata": {},
     "output_type": "execute_result"
    }
   ],
   "source": [
    "model_ret_ar2=ARMA(df.returns,order=(2,0))\n",
    "results_ret_ar2=model_ret_ar2.fit()\n",
    "results_ret_ar2.summary()"
   ]
  },
  {
   "cell_type": "markdown",
   "metadata": {},
   "source": [
    "## MA"
   ]
  },
  {
   "cell_type": "code",
   "execution_count": 128,
   "metadata": {},
   "outputs": [],
   "source": [
    "df.drop(['dax','ftse','nikkei'],inplace=True,axis=1)"
   ]
  },
  {
   "cell_type": "code",
   "execution_count": 130,
   "metadata": {},
   "outputs": [],
   "source": [
    "df['returns']=df['spx'].pct_change(1)*100"
   ]
  },
  {
   "cell_type": "code",
   "execution_count": 131,
   "metadata": {},
   "outputs": [
    {
     "data": {
      "text/html": [
       "<div>\n",
       "<style scoped>\n",
       "    .dataframe tbody tr th:only-of-type {\n",
       "        vertical-align: middle;\n",
       "    }\n",
       "\n",
       "    .dataframe tbody tr th {\n",
       "        vertical-align: top;\n",
       "    }\n",
       "\n",
       "    .dataframe thead th {\n",
       "        text-align: right;\n",
       "    }\n",
       "</style>\n",
       "<table border=\"1\" class=\"dataframe\">\n",
       "  <thead>\n",
       "    <tr style=\"text-align: right;\">\n",
       "      <th></th>\n",
       "      <th>spx</th>\n",
       "      <th>returns</th>\n",
       "    </tr>\n",
       "    <tr>\n",
       "      <th>date</th>\n",
       "      <th></th>\n",
       "      <th></th>\n",
       "    </tr>\n",
       "  </thead>\n",
       "  <tbody>\n",
       "    <tr>\n",
       "      <th>1994-01-10</th>\n",
       "      <td>475.270000</td>\n",
       "      <td>NaN</td>\n",
       "    </tr>\n",
       "    <tr>\n",
       "      <th>1994-01-11</th>\n",
       "      <td>474.130000</td>\n",
       "      <td>-0.239864</td>\n",
       "    </tr>\n",
       "    <tr>\n",
       "      <th>1994-01-12</th>\n",
       "      <td>474.170000</td>\n",
       "      <td>0.008437</td>\n",
       "    </tr>\n",
       "    <tr>\n",
       "      <th>1994-01-13</th>\n",
       "      <td>472.470000</td>\n",
       "      <td>-0.358521</td>\n",
       "    </tr>\n",
       "    <tr>\n",
       "      <th>1994-01-14</th>\n",
       "      <td>474.910000</td>\n",
       "      <td>0.516435</td>\n",
       "    </tr>\n",
       "    <tr>\n",
       "      <th>...</th>\n",
       "      <td>...</td>\n",
       "      <td>...</td>\n",
       "    </tr>\n",
       "    <tr>\n",
       "      <th>2018-01-23</th>\n",
       "      <td>2839.130362</td>\n",
       "      <td>0.217307</td>\n",
       "    </tr>\n",
       "    <tr>\n",
       "      <th>2018-01-24</th>\n",
       "      <td>2837.544008</td>\n",
       "      <td>-0.055875</td>\n",
       "    </tr>\n",
       "    <tr>\n",
       "      <th>2018-01-25</th>\n",
       "      <td>2839.253031</td>\n",
       "      <td>0.060229</td>\n",
       "    </tr>\n",
       "    <tr>\n",
       "      <th>2018-01-26</th>\n",
       "      <td>2872.867839</td>\n",
       "      <td>1.183931</td>\n",
       "    </tr>\n",
       "    <tr>\n",
       "      <th>2018-01-29</th>\n",
       "      <td>2853.528411</td>\n",
       "      <td>-0.673175</td>\n",
       "    </tr>\n",
       "  </tbody>\n",
       "</table>\n",
       "<p>6268 rows × 2 columns</p>\n",
       "</div>"
      ],
      "text/plain": [
       "                    spx   returns\n",
       "date                             \n",
       "1994-01-10   475.270000       NaN\n",
       "1994-01-11   474.130000 -0.239864\n",
       "1994-01-12   474.170000  0.008437\n",
       "1994-01-13   472.470000 -0.358521\n",
       "1994-01-14   474.910000  0.516435\n",
       "...                 ...       ...\n",
       "2018-01-23  2839.130362  0.217307\n",
       "2018-01-24  2837.544008 -0.055875\n",
       "2018-01-25  2839.253031  0.060229\n",
       "2018-01-26  2872.867839  1.183931\n",
       "2018-01-29  2853.528411 -0.673175\n",
       "\n",
       "[6268 rows x 2 columns]"
      ]
     },
     "execution_count": 131,
     "metadata": {},
     "output_type": "execute_result"
    }
   ],
   "source": [
    "df"
   ]
  },
  {
   "cell_type": "code",
   "execution_count": 136,
   "metadata": {},
   "outputs": [
    {
     "data": {
      "image/png": "[encoded data removed]",
      "text/plain": [
       "<Figure size 432x288 with 1 Axes>"
      ]
     },
     "metadata": {
      "needs_background": "light"
     },
     "output_type": "display_data"
    }
   ],
   "source": [
    "plot_acf(df['returns'][1:],zero=False,lags=40);"
   ]
  },
  {
   "cell_type": "code",
   "execution_count": null,
   "metadata": {},
   "outputs": [],
   "source": []
  }
 ],
 "metadata": {
  "kernelspec": {
   "display_name": "Python 3",
   "language": "python",
   "name": "python3"
  },
  "language_info": {
   "codemirror_mode": {
    "name": "ipython",
    "version": 3
   },
   "file_extension": ".py",
   "mimetype": "text/x-python",
   "name": "python",
   "nbconvert_exporter": "python",
   "pygments_lexer": "ipython3",
   "version": "3.7.3"
  }
 },
 "nbformat": 4,
 "nbformat_minor": 4
}
